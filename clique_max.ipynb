{
 "cells": [
  {
   "cell_type": "markdown",
   "metadata": {},
   "source": [
    "# Problema do clique máximo\n",
    "\n",
    "![Exemplo Clique](https://upload.wikimedia.org/wikipedia/commons/thumb/d/d0/VR_complex.svg/1200px-VR_complex.svg.png)"
   ]
  },
  {
   "cell_type": "markdown",
   "metadata": {},
   "source": [
    "## Índice\n",
    "1. [Descrição do Problema](#Descrição-do-problema)\n",
    "2. [Primeira Implementação: Versão Exaustiva Utilizando Recursão](#Primeira-implementação:-Versão-exaustiva-utilizando-recursão)\n",
    "3. [Segunda Implementação: Heurística Gulosa](#Segunda-implementação:-Heurística-gulosa)\n",
    "4. [Terceira Implementação: Heurística Gulosa com Aleatorização](#Terceira-implementação:-Heurística-gulosa-com-aleatorização)\n",
    "5. [Quarta Implementação: Paralelização do Algoritmo Guloso com Aleatorização](#Quarta-implementação:-Paralelização-do-algoritmo-guloso-com-aleatorização)\n",
    "6. [Conclusão](#Conclusão)"
   ]
  },
  {
   "cell_type": "markdown",
   "metadata": {},
   "source": [
    "## Descrição do problema\n",
    "\n",
    "### O que é um clique?\n",
    "  \n",
    "  - Um clique é um subconjunto de vértices de um grafo tal que todos os vértices são adjacentes entre si.\n",
    "\n",
    "  - Formalmente, um clique é um subconjunto $C$ de vértices de um grafo $G = (V, E)$ tal que para todo par de vértices $u, v \\in C$, $uv \\in E$.\n",
    "  \n",
    "### O que é um clique máximo?\n",
    "\n",
    "  - Um clique máximo é o maior clique de um grafo, ou seja, um clique que não é subconjunto de nenhum outro clique.\n",
    "\n",
    "  - Formalmente, um clique $C$ é máximo se não existe um clique $C'$ tal que $|C'| > |C|$.\n",
    "\n",
    "### Dificuldade do problema\n",
    "\n",
    "  O problema é considerado NP-Hard e ao mesmo tempo NP-Completo, ou seja, não se sabe se existe um algoritmo polinomial para resolvê-lo, entretanto existem aproximações que podem ser feitas em tempo polinomial mas que não garantem a solução ótima. \n",
    "\n",
    "> Em `/implementations/example.cpp` está a implementação do código em C++ feito com o pseudo-código proposto no enunciado.\n",
    "\n",
    "### Metodologia\n",
    "\n",
    "Foram criados grafos de 25, 50, 75, 100, 125 e 150 vértices para a análise. Essas quantidades de vértices foram escolhidas por apresentarem resultados que não levam muito tempo para serem obtidos, de qualquer forma um grafo de 200 não seria possível ser executado devido ao fato do código disponibilizado para verificar se a solução está certa não conseguir executar. Serão usadas como métricas o tamanho do clique máximo encontrado e sua proximidade da solução ótima obtida com o código de exemplo (disponível em: `/python/verify_max_clique.py`), e o tempo de execução do algoritmo e seu **speedup**."
   ]
  },
  {
   "cell_type": "code",
   "execution_count": 45,
   "metadata": {},
   "outputs": [],
   "source": [
    "# Verificar clique máximo\n",
    "# !python3 ./python/verify_max_clique.py\n",
    "\n",
    "# ou\n",
    "\n",
    "# !python ./python/verify_max_clique.py"
   ]
  },
  {
   "cell_type": "markdown",
   "metadata": {},
   "source": [
    "## Primeira implementação: Versão exaustiva utilizando recursão\n",
    "\n",
    "* **Descrição da implementação**\n",
    "\n",
    "    Para a primeira implementação foi realizada uma versão exaustiva utilizando recursão. A ideia é que para cada vértice do grafo é feita é feita uma exploração e para encontrar o clique máximo que contém aquele vértice. No caso se um vértice já foi calculado ele não irá entrar nessa busca, por exemplo, se já foi encontrado clique máximo contém o vértice 2, ao procurar pelo clique máximo do vértice 3 ele não irá utilizar o vértice 2 e o vértice 1 por já terem sido encontrados, isso garante uma maior eficiência, não sendo necessário calcular novamente o que já foi calculado. Após encontrar o clique máximo de cada vértice irá ser verificado se é maior que o maior clique encontrado até o momento, caso seja ele será o maior, caso contrário será descartado.\n",
    "\n",
    "> Essa implementação encontra a solução ótima global, portanto sua acurácia é de 100%\n",
    "\n",
    "> O código comentado está localizado em `/implementations/exaustive.cpp`"
   ]
  },
  {
   "cell_type": "code",
   "execution_count": 46,
   "metadata": {},
   "outputs": [],
   "source": [
    "# Para compilar:\n",
    "# !g++ -O3 ./implementations/exaustive.cpp -o ./implementations/outputs/exaustive"
   ]
  },
  {
   "cell_type": "code",
   "execution_count": 47,
   "metadata": {},
   "outputs": [],
   "source": [
    "# Para executar a implementação:\n",
    "# !./implementations/outputs/exaustive "
   ]
  },
  {
   "cell_type": "code",
   "execution_count": 61,
   "metadata": {},
   "outputs": [],
   "source": [
    "# Biblioteca utilizada para plotar os gráficos\n",
    "# %pip install plotly"
   ]
  },
  {
   "cell_type": "code",
   "execution_count": 48,
   "metadata": {},
   "outputs": [
    {
     "data": {
      "application/vnd.plotly.v1+json": {
       "config": {
        "plotlyServerURL": "https://plot.ly"
       },
       "data": [
        {
         "hovertemplate": "Tamanho do Grafo=%{x}<br>Tempo de Execução (ms)=%{y}<extra></extra>",
         "legendgroup": "",
         "line": {
          "color": "#1F77B4",
          "dash": "solid"
         },
         "marker": {
          "symbol": "circle"
         },
         "mode": "lines+markers",
         "name": "",
         "orientation": "v",
         "showlegend": false,
         "type": "scatter",
         "x": [
          25,
          50,
          75,
          100,
          125,
          150
         ],
         "xaxis": "x",
         "y": [
          0,
          11,
          210,
          2581,
          14806,
          86927
         ],
         "yaxis": "y"
        }
       ],
       "layout": {
        "legend": {
         "tracegroupgap": 0
        },
        "template": {
         "data": {
          "pie": [
           {
            "automargin": true,
            "type": "pie"
           }
          ],
          "scatter": [
           {
            "line": {
             "width": 3
            },
            "marker": {
             "size": 9
            },
            "type": "scatter"
           }
          ],
          "scatter3d": [
           {
            "line": {
             "width": 3
            },
            "marker": {
             "size": 9
            },
            "type": "scatter3d"
           }
          ],
          "scattergeo": [
           {
            "line": {
             "width": 3
            },
            "marker": {
             "size": 9
            },
            "type": "scattergeo"
           }
          ],
          "scattergl": [
           {
            "line": {
             "width": 3
            },
            "marker": {
             "size": 9
            },
            "type": "scattergl"
           }
          ],
          "scatterpolar": [
           {
            "line": {
             "width": 3
            },
            "marker": {
             "size": 9
            },
            "type": "scatterpolar"
           }
          ],
          "scatterpolargl": [
           {
            "line": {
             "width": 3
            },
            "marker": {
             "size": 9
            },
            "type": "scatterpolargl"
           }
          ],
          "scatterternary": [
           {
            "line": {
             "width": 3
            },
            "marker": {
             "size": 9
            },
            "type": "scatterternary"
           }
          ],
          "table": [
           {
            "cells": {
             "height": 30
            },
            "header": {
             "height": 36
            },
            "type": "table"
           }
          ]
         },
         "layout": {
          "font": {
           "size": 18
          },
          "xaxis": {
           "title": {
            "standoff": 15
           }
          },
          "yaxis": {
           "title": {
            "standoff": 15
           }
          }
         }
        },
        "title": {
         "text": "Tempo de Execução x Tamanho do Grafo"
        },
        "xaxis": {
         "anchor": "y",
         "domain": [
          0,
          1
         ],
         "title": {
          "text": "Tamanho do Grafo"
         }
        },
        "yaxis": {
         "anchor": "x",
         "domain": [
          0,
          1
         ],
         "title": {
          "text": "Tempo de Execução (ms)"
         }
        }
       }
      },
      "text/html": [
       "<div>                            <div id=\"4a177261-5ec0-428d-b32f-a2a8fa452d8e\" class=\"plotly-graph-div\" style=\"height:525px; width:100%;\"></div>            <script type=\"text/javascript\">                require([\"plotly\"], function(Plotly) {                    window.PLOTLYENV=window.PLOTLYENV || {};                                    if (document.getElementById(\"4a177261-5ec0-428d-b32f-a2a8fa452d8e\")) {                    Plotly.newPlot(                        \"4a177261-5ec0-428d-b32f-a2a8fa452d8e\",                        [{\"hovertemplate\":\"Tamanho do Grafo=%{x}\\u003cbr\\u003eTempo de Execu\\u00e7\\u00e3o (ms)=%{y}\\u003cextra\\u003e\\u003c\\u002fextra\\u003e\",\"legendgroup\":\"\",\"line\":{\"color\":\"#1F77B4\",\"dash\":\"solid\"},\"marker\":{\"symbol\":\"circle\"},\"mode\":\"lines+markers\",\"name\":\"\",\"orientation\":\"v\",\"showlegend\":false,\"x\":[25,50,75,100,125,150],\"xaxis\":\"x\",\"y\":[0,11,210,2581,14806,86927],\"yaxis\":\"y\",\"type\":\"scatter\"}],                        {\"template\":{\"data\":{\"pie\":[{\"automargin\":true,\"type\":\"pie\"}],\"scatter3d\":[{\"line\":{\"width\":3},\"marker\":{\"size\":9},\"type\":\"scatter3d\"}],\"scattergeo\":[{\"line\":{\"width\":3},\"marker\":{\"size\":9},\"type\":\"scattergeo\"}],\"scattergl\":[{\"line\":{\"width\":3},\"marker\":{\"size\":9},\"type\":\"scattergl\"}],\"scatterpolargl\":[{\"line\":{\"width\":3},\"marker\":{\"size\":9},\"type\":\"scatterpolargl\"}],\"scatterpolar\":[{\"line\":{\"width\":3},\"marker\":{\"size\":9},\"type\":\"scatterpolar\"}],\"scatter\":[{\"line\":{\"width\":3},\"marker\":{\"size\":9},\"type\":\"scatter\"}],\"scatterternary\":[{\"line\":{\"width\":3},\"marker\":{\"size\":9},\"type\":\"scatterternary\"}],\"table\":[{\"cells\":{\"height\":30},\"header\":{\"height\":36},\"type\":\"table\"}]},\"layout\":{\"font\":{\"size\":18},\"xaxis\":{\"title\":{\"standoff\":15}},\"yaxis\":{\"title\":{\"standoff\":15}}}},\"xaxis\":{\"anchor\":\"y\",\"domain\":[0.0,1.0],\"title\":{\"text\":\"Tamanho do Grafo\"}},\"yaxis\":{\"anchor\":\"x\",\"domain\":[0.0,1.0],\"title\":{\"text\":\"Tempo de Execu\\u00e7\\u00e3o (ms)\"}},\"legend\":{\"tracegroupgap\":0},\"title\":{\"text\":\"Tempo de Execu\\u00e7\\u00e3o x Tamanho do Grafo\"}},                        {\"responsive\": true}                    ).then(function(){\n",
       "                            \n",
       "var gd = document.getElementById('4a177261-5ec0-428d-b32f-a2a8fa452d8e');\n",
       "var x = new MutationObserver(function (mutations, observer) {{\n",
       "        var display = window.getComputedStyle(gd).display;\n",
       "        if (!display || display === 'none') {{\n",
       "            console.log([gd, 'removed!']);\n",
       "            Plotly.purge(gd);\n",
       "            observer.disconnect();\n",
       "        }}\n",
       "}});\n",
       "\n",
       "// Listen for the removal of the full notebook cells\n",
       "var notebookContainer = gd.closest('#notebook-container');\n",
       "if (notebookContainer) {{\n",
       "    x.observe(notebookContainer, {childList: true});\n",
       "}}\n",
       "\n",
       "// Listen for the clearing of the current output cell\n",
       "var outputEl = gd.closest('.output');\n",
       "if (outputEl) {{\n",
       "    x.observe(outputEl, {childList: true});\n",
       "}}\n",
       "\n",
       "                        })                };                });            </script>        </div>"
      ]
     },
     "metadata": {},
     "output_type": "display_data"
    }
   ],
   "source": [
    "import plotly.express as px\n",
    "\n",
    "tamanho_grafos = [25, 50, 75, 100, 125, 150]\n",
    "tempos_execucao_exaustiva = [0, 11, 210, 2581, 14806, 86927]\n",
    "\n",
    "fig = px.line(x=tamanho_grafos, y=tempos_execucao_exaustiva, labels={'x': 'Tamanho do Grafo', 'y': 'Tempo de Execução (ms)'},\n",
    "              title='Tempo de Execução x Tamanho do Grafo', template=\"presentation\", markers=True )\n",
    "\n",
    "fig.show()"
   ]
  },
  {
   "cell_type": "markdown",
   "metadata": {},
   "source": [
    "Como é possível perceber no gráfico acima, o tempo cresce exponencialmente com a entrada do problema, portanto não é uma solução viável para grafos relativamente grandes. "
   ]
  },
  {
   "cell_type": "markdown",
   "metadata": {},
   "source": [
    "## Segunda implementação: Heurística gulosa\n",
    "\n",
    "* **Descrição da implementação**\n",
    "\n",
    "    A segunda implementação faz uso do degree dos vértices, um vetor com o indíce de todos os vértices é ordenado de maneira crescente de acordo com o degree, após isso é encontrado o clique máximo de cada vértice baseado no maior valor de degree, ou seja, ao selecionar um vértice para encontrar o clique máximo, o primeiro vértice a ser verificado será o que possui o maior degree e caso tenha uma aresta conectada ao vértice selecionado, ele será adicionado, caso contrário será descartado. Para o próximo vértice a ser verificado, será selecionado o vértice com o maior degree e caso ele tenha aresta com todos os vértices do clique atual, ele será adicionado, caso contrário será descartado. A cada verificação os vértices que não possuem aresta com o clique são descartados, isso garante uma maior eficiência, pois não é necessário verificar todos os vértices novamente. Após encontrar o clique máximo de cada vértice utilizando essa heurística é verificado se é maior que o maior clique encontrado até o momento, caso seja ele será o maior, caso contrário será descartado.\n",
    "\n",
    "    Importante ressaltar que essa implementação não garante a solução ótima, entretanto melhora sua velocidade de execução mas diminui a sua acurácia.\n",
    "\n",
    "    > O código comentado está localizado em `/implementations/greedy.cpp`"
   ]
  },
  {
   "cell_type": "code",
   "execution_count": 49,
   "metadata": {},
   "outputs": [],
   "source": [
    "# Para compilar:\n",
    "# !g++ -O3 ./implementations/exaustive.cpp -o ./implementations/outputs/exaustive"
   ]
  },
  {
   "cell_type": "code",
   "execution_count": 50,
   "metadata": {},
   "outputs": [],
   "source": [
    "# Para executar a implementação:\n",
    "# !./implementations/outputs/greedy"
   ]
  },
  {
   "cell_type": "markdown",
   "metadata": {},
   "source": [
    "| Tam. Grafo | Clique máximo correto | Clique máximo obtido| Acurácia | Tempo exaus. (ms) | Tempo guloso (ms) | Speedup |\n",
    "|:----------:|:---------------------:|:-------------------:|:--------:|:-----------------:|:-----------------:|:-------:|\n",
    "| 25         | 9                     | 9                   | 100%     | 0                 | 0                 | -       |\n",
    "| 50         | 11                    | 9                   | 81,81%   | 11                | 0                 | -       |\n",
    "| 75         | 13                    | 11                  | 84,61%   | 210               | 2                 | 105     |\n",
    "| 100        | 15                    | 12                  | 80%      | 2581              | 9                 | 286,78  |\n",
    "| 125        | 15                    | 13                  | 86,67%   | 14806             | 13                | 1138,92 |\n",
    "| 150        | 17                    | 13                  | 76,47%   | 86927             | 15                | 5795,13 |\n"
   ]
  },
  {
   "cell_type": "markdown",
   "metadata": {},
   "source": [
    "Como era esperado, o tempo de execução do algoritmo guloso é muito menor que o tempo de execução do algoritmo exaustivo, devido o algoritmo exaustivo ter complexidade exponencial, enquanto o algoritmo guloso tem complexidade polinomial. Entretanto, como o algoritmo guloso não garante a solução ótima, sua acurácia é menor que 100% na maioria dos casos, sendo na maioria das vezes maior que 80%."
   ]
  },
  {
   "cell_type": "code",
   "execution_count": 51,
   "metadata": {},
   "outputs": [
    {
     "data": {
      "application/vnd.plotly.v1+json": {
       "config": {
        "plotlyServerURL": "https://plot.ly"
       },
       "data": [
        {
         "hovertemplate": "variable=Algoritmo Exaustivo<br>Tamanho do Grafo=%{x}<br>value=%{y}<extra></extra>",
         "legendgroup": "Algoritmo Exaustivo",
         "line": {
          "color": "#1F77B4",
          "dash": "solid"
         },
         "marker": {
          "symbol": "circle"
         },
         "mode": "lines+markers",
         "name": "Algoritmo Exaustivo",
         "orientation": "v",
         "showlegend": true,
         "type": "scatter",
         "x": [
          25,
          50,
          75,
          100,
          125,
          150
         ],
         "xaxis": "x",
         "y": [
          0,
          11,
          210,
          2581,
          14806,
          86927
         ],
         "yaxis": "y"
        },
        {
         "hovertemplate": "variable=Algoritmo Guloso<br>Tamanho do Grafo=%{x}<br>value=%{y}<extra></extra>",
         "legendgroup": "Algoritmo Guloso",
         "line": {
          "color": "#FF7F0E",
          "dash": "solid"
         },
         "marker": {
          "symbol": "circle"
         },
         "mode": "lines+markers",
         "name": "Algoritmo Guloso",
         "orientation": "v",
         "showlegend": true,
         "type": "scatter",
         "x": [
          25,
          50,
          75,
          100,
          125,
          150
         ],
         "xaxis": "x",
         "y": [
          0,
          0,
          2,
          9,
          13,
          15
         ],
         "yaxis": "y"
        }
       ],
       "layout": {
        "legend": {
         "title": {
          "text": "Algoritmos"
         },
         "tracegroupgap": 0
        },
        "template": {
         "data": {
          "pie": [
           {
            "automargin": true,
            "type": "pie"
           }
          ],
          "scatter": [
           {
            "line": {
             "width": 3
            },
            "marker": {
             "size": 9
            },
            "type": "scatter"
           }
          ],
          "scatter3d": [
           {
            "line": {
             "width": 3
            },
            "marker": {
             "size": 9
            },
            "type": "scatter3d"
           }
          ],
          "scattergeo": [
           {
            "line": {
             "width": 3
            },
            "marker": {
             "size": 9
            },
            "type": "scattergeo"
           }
          ],
          "scattergl": [
           {
            "line": {
             "width": 3
            },
            "marker": {
             "size": 9
            },
            "type": "scattergl"
           }
          ],
          "scatterpolar": [
           {
            "line": {
             "width": 3
            },
            "marker": {
             "size": 9
            },
            "type": "scatterpolar"
           }
          ],
          "scatterpolargl": [
           {
            "line": {
             "width": 3
            },
            "marker": {
             "size": 9
            },
            "type": "scatterpolargl"
           }
          ],
          "scatterternary": [
           {
            "line": {
             "width": 3
            },
            "marker": {
             "size": 9
            },
            "type": "scatterternary"
           }
          ],
          "table": [
           {
            "cells": {
             "height": 30
            },
            "header": {
             "height": 36
            },
            "type": "table"
           }
          ]
         },
         "layout": {
          "font": {
           "size": 18
          },
          "xaxis": {
           "title": {
            "standoff": 15
           }
          },
          "yaxis": {
           "title": {
            "standoff": 15
           }
          }
         }
        },
        "title": {
         "text": "Tempo de Execução x Tamanho do Grafo"
        },
        "xaxis": {
         "anchor": "y",
         "domain": [
          0,
          1
         ],
         "title": {
          "text": "Tamanho do Grafo"
         }
        },
        "yaxis": {
         "anchor": "x",
         "domain": [
          0,
          1
         ],
         "title": {
          "text": "Tempo de execução (ms)"
         }
        }
       }
      },
      "text/html": [
       "<div>                            <div id=\"c551647a-b834-446b-8990-d5e8e0446536\" class=\"plotly-graph-div\" style=\"height:525px; width:100%;\"></div>            <script type=\"text/javascript\">                require([\"plotly\"], function(Plotly) {                    window.PLOTLYENV=window.PLOTLYENV || {};                                    if (document.getElementById(\"c551647a-b834-446b-8990-d5e8e0446536\")) {                    Plotly.newPlot(                        \"c551647a-b834-446b-8990-d5e8e0446536\",                        [{\"hovertemplate\":\"variable=Algoritmo Exaustivo\\u003cbr\\u003eTamanho do Grafo=%{x}\\u003cbr\\u003evalue=%{y}\\u003cextra\\u003e\\u003c\\u002fextra\\u003e\",\"legendgroup\":\"Algoritmo Exaustivo\",\"line\":{\"color\":\"#1F77B4\",\"dash\":\"solid\"},\"marker\":{\"symbol\":\"circle\"},\"mode\":\"lines+markers\",\"name\":\"Algoritmo Exaustivo\",\"orientation\":\"v\",\"showlegend\":true,\"x\":[25,50,75,100,125,150],\"xaxis\":\"x\",\"y\":[0,11,210,2581,14806,86927],\"yaxis\":\"y\",\"type\":\"scatter\"},{\"hovertemplate\":\"variable=Algoritmo Guloso\\u003cbr\\u003eTamanho do Grafo=%{x}\\u003cbr\\u003evalue=%{y}\\u003cextra\\u003e\\u003c\\u002fextra\\u003e\",\"legendgroup\":\"Algoritmo Guloso\",\"line\":{\"color\":\"#FF7F0E\",\"dash\":\"solid\"},\"marker\":{\"symbol\":\"circle\"},\"mode\":\"lines+markers\",\"name\":\"Algoritmo Guloso\",\"orientation\":\"v\",\"showlegend\":true,\"x\":[25,50,75,100,125,150],\"xaxis\":\"x\",\"y\":[0,0,2,9,13,15],\"yaxis\":\"y\",\"type\":\"scatter\"}],                        {\"template\":{\"data\":{\"pie\":[{\"automargin\":true,\"type\":\"pie\"}],\"scatter3d\":[{\"line\":{\"width\":3},\"marker\":{\"size\":9},\"type\":\"scatter3d\"}],\"scattergeo\":[{\"line\":{\"width\":3},\"marker\":{\"size\":9},\"type\":\"scattergeo\"}],\"scattergl\":[{\"line\":{\"width\":3},\"marker\":{\"size\":9},\"type\":\"scattergl\"}],\"scatterpolargl\":[{\"line\":{\"width\":3},\"marker\":{\"size\":9},\"type\":\"scatterpolargl\"}],\"scatterpolar\":[{\"line\":{\"width\":3},\"marker\":{\"size\":9},\"type\":\"scatterpolar\"}],\"scatter\":[{\"line\":{\"width\":3},\"marker\":{\"size\":9},\"type\":\"scatter\"}],\"scatterternary\":[{\"line\":{\"width\":3},\"marker\":{\"size\":9},\"type\":\"scatterternary\"}],\"table\":[{\"cells\":{\"height\":30},\"header\":{\"height\":36},\"type\":\"table\"}]},\"layout\":{\"font\":{\"size\":18},\"xaxis\":{\"title\":{\"standoff\":15}},\"yaxis\":{\"title\":{\"standoff\":15}}}},\"xaxis\":{\"anchor\":\"y\",\"domain\":[0.0,1.0],\"title\":{\"text\":\"Tamanho do Grafo\"}},\"yaxis\":{\"anchor\":\"x\",\"domain\":[0.0,1.0],\"title\":{\"text\":\"Tempo de execu\\u00e7\\u00e3o (ms)\"}},\"legend\":{\"title\":{\"text\":\"Algoritmos\"},\"tracegroupgap\":0},\"title\":{\"text\":\"Tempo de Execu\\u00e7\\u00e3o x Tamanho do Grafo\"}},                        {\"responsive\": true}                    ).then(function(){\n",
       "                            \n",
       "var gd = document.getElementById('c551647a-b834-446b-8990-d5e8e0446536');\n",
       "var x = new MutationObserver(function (mutations, observer) {{\n",
       "        var display = window.getComputedStyle(gd).display;\n",
       "        if (!display || display === 'none') {{\n",
       "            console.log([gd, 'removed!']);\n",
       "            Plotly.purge(gd);\n",
       "            observer.disconnect();\n",
       "        }}\n",
       "}});\n",
       "\n",
       "// Listen for the removal of the full notebook cells\n",
       "var notebookContainer = gd.closest('#notebook-container');\n",
       "if (notebookContainer) {{\n",
       "    x.observe(notebookContainer, {childList: true});\n",
       "}}\n",
       "\n",
       "// Listen for the clearing of the current output cell\n",
       "var outputEl = gd.closest('.output');\n",
       "if (outputEl) {{\n",
       "    x.observe(outputEl, {childList: true});\n",
       "}}\n",
       "\n",
       "                        })                };                });            </script>        </div>"
      ]
     },
     "metadata": {},
     "output_type": "display_data"
    }
   ],
   "source": [
    "tamanho_grafos = [25, 50, 75, 100, 125, 150]\n",
    "tempos_execucao_exaustiva = [0, 11, 210, 2581, 14806, 86927]\n",
    "tempos_execucao_guloso = [0, 0, 2, 9, 13, 15]\n",
    "\n",
    "tempos_execucao = {\"Algoritmo Guloso\": tempos_execucao_guloso,\n",
    "                   \"Algoritmo Exaustivo\": tempos_execucao_exaustiva,\n",
    "                   \"Tamanho do Grafo\": tamanho_grafos}\n",
    "\n",
    "fig = px.line(tempos_execucao, x=\"Tamanho do Grafo\", y=[\"Algoritmo Exaustivo\", \"Algoritmo Guloso\"], labels={'x': 'Tamanho do Grafo'},\n",
    "              title='Tempo de Execução x Tamanho do Grafo', template=\"presentation\", markers=True)\n",
    "fig.update_layout(legend_title_text='Algoritmos')\n",
    "\n",
    "fig.update_yaxes(title_text = \"Tempo de execução (ms)\")\n",
    "\n",
    "fig.show()"
   ]
  },
  {
   "cell_type": "markdown",
   "metadata": {},
   "source": [
    "Como é possível observar no gráfico acima, enquanto o tempo de execução do algoritmo guloso cresce pouco, aparenta estar constante devido a escala imposta pelo algoritmo exaustivo, o algoritmo exaustivo cresce exponencialmente, algo que pode ser observado no speedup que cresce exponencialmente"
   ]
  },
  {
   "cell_type": "code",
   "execution_count": 52,
   "metadata": {},
   "outputs": [
    {
     "data": {
      "application/vnd.plotly.v1+json": {
       "config": {
        "plotlyServerURL": "https://plot.ly"
       },
       "data": [
        {
         "hovertemplate": "Tamanho do Grafo=%{x}<br>Speedup=%{y}<extra></extra>",
         "legendgroup": "",
         "line": {
          "color": "#1F77B4",
          "dash": "solid"
         },
         "marker": {
          "symbol": "circle"
         },
         "mode": "lines+markers",
         "name": "",
         "orientation": "v",
         "showlegend": false,
         "type": "scatter",
         "x": [
          25,
          50,
          75,
          100,
          125,
          150
         ],
         "xaxis": "x",
         "y": [
          null,
          null,
          105,
          286,
          1138,
          5795
         ],
         "yaxis": "y"
        }
       ],
       "layout": {
        "legend": {
         "tracegroupgap": 0
        },
        "template": {
         "data": {
          "pie": [
           {
            "automargin": true,
            "type": "pie"
           }
          ],
          "scatter": [
           {
            "line": {
             "width": 3
            },
            "marker": {
             "size": 9
            },
            "type": "scatter"
           }
          ],
          "scatter3d": [
           {
            "line": {
             "width": 3
            },
            "marker": {
             "size": 9
            },
            "type": "scatter3d"
           }
          ],
          "scattergeo": [
           {
            "line": {
             "width": 3
            },
            "marker": {
             "size": 9
            },
            "type": "scattergeo"
           }
          ],
          "scattergl": [
           {
            "line": {
             "width": 3
            },
            "marker": {
             "size": 9
            },
            "type": "scattergl"
           }
          ],
          "scatterpolar": [
           {
            "line": {
             "width": 3
            },
            "marker": {
             "size": 9
            },
            "type": "scatterpolar"
           }
          ],
          "scatterpolargl": [
           {
            "line": {
             "width": 3
            },
            "marker": {
             "size": 9
            },
            "type": "scatterpolargl"
           }
          ],
          "scatterternary": [
           {
            "line": {
             "width": 3
            },
            "marker": {
             "size": 9
            },
            "type": "scatterternary"
           }
          ],
          "table": [
           {
            "cells": {
             "height": 30
            },
            "header": {
             "height": 36
            },
            "type": "table"
           }
          ]
         },
         "layout": {
          "font": {
           "size": 18
          },
          "xaxis": {
           "title": {
            "standoff": 15
           }
          },
          "yaxis": {
           "title": {
            "standoff": 15
           }
          }
         }
        },
        "title": {
         "text": "Speedup x Tamanho do Grafo"
        },
        "xaxis": {
         "anchor": "y",
         "domain": [
          0,
          1
         ],
         "title": {
          "text": "Tamanho do Grafo"
         }
        },
        "yaxis": {
         "anchor": "x",
         "domain": [
          0,
          1
         ],
         "title": {
          "text": "Speedup"
         }
        }
       }
      },
      "text/html": [
       "<div>                            <div id=\"b7bd682b-0afa-42d1-8377-ec57fadda263\" class=\"plotly-graph-div\" style=\"height:525px; width:100%;\"></div>            <script type=\"text/javascript\">                require([\"plotly\"], function(Plotly) {                    window.PLOTLYENV=window.PLOTLYENV || {};                                    if (document.getElementById(\"b7bd682b-0afa-42d1-8377-ec57fadda263\")) {                    Plotly.newPlot(                        \"b7bd682b-0afa-42d1-8377-ec57fadda263\",                        [{\"hovertemplate\":\"Tamanho do Grafo=%{x}\\u003cbr\\u003eSpeedup=%{y}\\u003cextra\\u003e\\u003c\\u002fextra\\u003e\",\"legendgroup\":\"\",\"line\":{\"color\":\"#1F77B4\",\"dash\":\"solid\"},\"marker\":{\"symbol\":\"circle\"},\"mode\":\"lines+markers\",\"name\":\"\",\"orientation\":\"v\",\"showlegend\":false,\"x\":[25,50,75,100,125,150],\"xaxis\":\"x\",\"y\":[null,null,105.0,286.0,1138.0,5795.0],\"yaxis\":\"y\",\"type\":\"scatter\"}],                        {\"template\":{\"data\":{\"pie\":[{\"automargin\":true,\"type\":\"pie\"}],\"scatter3d\":[{\"line\":{\"width\":3},\"marker\":{\"size\":9},\"type\":\"scatter3d\"}],\"scattergeo\":[{\"line\":{\"width\":3},\"marker\":{\"size\":9},\"type\":\"scattergeo\"}],\"scattergl\":[{\"line\":{\"width\":3},\"marker\":{\"size\":9},\"type\":\"scattergl\"}],\"scatterpolargl\":[{\"line\":{\"width\":3},\"marker\":{\"size\":9},\"type\":\"scatterpolargl\"}],\"scatterpolar\":[{\"line\":{\"width\":3},\"marker\":{\"size\":9},\"type\":\"scatterpolar\"}],\"scatter\":[{\"line\":{\"width\":3},\"marker\":{\"size\":9},\"type\":\"scatter\"}],\"scatterternary\":[{\"line\":{\"width\":3},\"marker\":{\"size\":9},\"type\":\"scatterternary\"}],\"table\":[{\"cells\":{\"height\":30},\"header\":{\"height\":36},\"type\":\"table\"}]},\"layout\":{\"font\":{\"size\":18},\"xaxis\":{\"title\":{\"standoff\":15}},\"yaxis\":{\"title\":{\"standoff\":15}}}},\"xaxis\":{\"anchor\":\"y\",\"domain\":[0.0,1.0],\"title\":{\"text\":\"Tamanho do Grafo\"}},\"yaxis\":{\"anchor\":\"x\",\"domain\":[0.0,1.0],\"title\":{\"text\":\"Speedup\"}},\"legend\":{\"tracegroupgap\":0},\"title\":{\"text\":\"Speedup x Tamanho do Grafo\"}},                        {\"responsive\": true}                    ).then(function(){\n",
       "                            \n",
       "var gd = document.getElementById('b7bd682b-0afa-42d1-8377-ec57fadda263');\n",
       "var x = new MutationObserver(function (mutations, observer) {{\n",
       "        var display = window.getComputedStyle(gd).display;\n",
       "        if (!display || display === 'none') {{\n",
       "            console.log([gd, 'removed!']);\n",
       "            Plotly.purge(gd);\n",
       "            observer.disconnect();\n",
       "        }}\n",
       "}});\n",
       "\n",
       "// Listen for the removal of the full notebook cells\n",
       "var notebookContainer = gd.closest('#notebook-container');\n",
       "if (notebookContainer) {{\n",
       "    x.observe(notebookContainer, {childList: true});\n",
       "}}\n",
       "\n",
       "// Listen for the clearing of the current output cell\n",
       "var outputEl = gd.closest('.output');\n",
       "if (outputEl) {{\n",
       "    x.observe(outputEl, {childList: true});\n",
       "}}\n",
       "\n",
       "                        })                };                });            </script>        </div>"
      ]
     },
     "metadata": {},
     "output_type": "display_data"
    }
   ],
   "source": [
    "tamanho_grafos = [25, 50, 75, 100, 125, 150]\n",
    "speedup = [None, None, 105, 286, 1138, 5795]\n",
    "\n",
    "tempos_execucao = {\"Speedup\": speedup,\n",
    "                   \"Tamanho do Grafo\": tamanho_grafos}\n",
    "\n",
    "fig = px.line(tempos_execucao, x=\"Tamanho do Grafo\", y=\"Speedup\", labels={'x': 'Tamanho do Grafo'},\n",
    "              title='Speedup x Tamanho do Grafo', template=\"presentation\", markers=True)\n",
    "fig.update_yaxes(title_text = \"Speedup\")\n",
    "\n",
    "fig.show()"
   ]
  },
  {
   "cell_type": "markdown",
   "metadata": {},
   "source": [
    "## Terceira implementação: Heurística gulosa com aleatorização"
   ]
  },
  {
   "cell_type": "markdown",
   "metadata": {},
   "source": [
    "* **Descrição da implementação**\n",
    "\n",
    "    A terceira implementação é similar a primeira mas com uma diferença, após escolher o segundo vértice do clique, que no caso é aquele com maior degree no grafo inteiro e que possui uma aresta com o primeiro vértice, é feita uma aleatorização dos vértices posteriores adicionando exploration para aumentar a acurácia da solução sem ter grandes custos computacionais. Essa característica acaba por aumentar a acurácia devido a nem sempre o vértice com maior degree ser o que conseguiria conectar outros vértices que formariam o clique máximo, o que os eliminaria da solução. A desvantagem dela é que para a mesma entrada, a solução pode variar, podendo executar mais de uma vez para encontrar a melhor solução que seria a que possui o maior clique máximo.\n",
    "\n",
    "    Novamente é importante ressaltar que essa solução não encontra uma solução ótima global, mas busca uma aproximação maior que a versão anterior sem ter uma perda grande em desempenho.\n",
    "\n",
    "    > O código comentado está localizado em: `/implementations/greedy_random.cpp`"
   ]
  },
  {
   "cell_type": "code",
   "execution_count": 53,
   "metadata": {},
   "outputs": [],
   "source": [
    "# Para compilar:\n",
    "# !g++ -O3 ./implementations/exaustive.cpp -o ./implementations/outputs/exaustive"
   ]
  },
  {
   "cell_type": "code",
   "execution_count": 54,
   "metadata": {},
   "outputs": [],
   "source": [
    "# Para executar a implementação:\n",
    "# !./implementations/outputs/greedy_random"
   ]
  },
  {
   "cell_type": "markdown",
   "metadata": {},
   "source": [
    "| Tam. Grafo | Clique máximo correto | Clique máximo obtido| Acurácia guloso|Acurácia guloso aleat.| Tempo exaus. (ms) | Tempo guloso (ms) |Tempo guloso aleat. (ms)| Speedup guloso | Speedup aleat. |\n",
    "|:----------:|:---------------------:|:-------------------:|:--------------:|:--------------------:|:-----------------:|:-----------------:|:----------------------:|:--------------:|:--------------:|\n",
    "| 25         | 9                     | 9                   | 100%           | 100%                 |0                  | 0                 |0                       | -              | -              |\n",
    "| 50         | 11                    | 10                  | 81,81%         | 90,9%                |11                 | 0                 |2                       | -              | 5,5            |\n",
    "| 75         | 13                    | 11                  | 84,61%         | 84,61%               |210                | 2                 |6                       | 105            | 35             |\n",
    "| 100        | 15                    | 12                  | 80%            | 80%                  |2581               | 9                 |8                       | 286,78         | 322,625        |\n",
    "| 125        | 15                    | 13                  | 86,67%         | 86,67%               |14806              | 13                |18                      | 1138,92        | 822,55         |\n",
    "| 150        | 17                    | 16                  | 76,47%         | 94,11%               |86927              | 15                |20                      | 5795,13        | 4346,35        |"
   ]
  },
  {
   "cell_type": "markdown",
   "metadata": {},
   "source": [
    "Ao medir a acurácia média é possível notar que para o algoritmo guloso com aleatorização foi de aproximadamente 89,38%, enquanto o algoritmo guloso foi de aproximadamente 84,93%, o que resultou em uma melhora de aproximadamente 4,45% na acurácia média, sendo que em nenhum momento a acurácia da versão aleatória foi menor que a versão sem aleatoriedade, inclusive no melhor caso a diferença foi de aproximadamente 17,64%, um ganho considerável. Ao analisar o tempo de execução é possível notar que permaneceram bem próximos um do outro, sendo que para o caso de 100 vértices a versão aleatória foi mais rápido. É possível também analisar o tempo de execução nos gráficos abaixo:"
   ]
  },
  {
   "cell_type": "code",
   "execution_count": 65,
   "metadata": {},
   "outputs": [
    {
     "data": {
      "application/vnd.plotly.v1+json": {
       "config": {
        "plotlyServerURL": "https://plot.ly"
       },
       "data": [
        {
         "hovertemplate": "variable=Algoritmo Exaustivo<br>Tamanho do Grafo=%{x}<br>value=%{y}<extra></extra>",
         "legendgroup": "Algoritmo Exaustivo",
         "line": {
          "color": "#1F77B4",
          "dash": "solid"
         },
         "marker": {
          "symbol": "circle"
         },
         "mode": "lines+markers",
         "name": "Algoritmo Exaustivo",
         "orientation": "v",
         "showlegend": true,
         "type": "scatter",
         "x": [
          25,
          50,
          75,
          100,
          125,
          150
         ],
         "xaxis": "x",
         "y": [
          0,
          11,
          210,
          2581,
          14806,
          86927
         ],
         "yaxis": "y"
        },
        {
         "hovertemplate": "variable=Algoritmo Guloso<br>Tamanho do Grafo=%{x}<br>value=%{y}<extra></extra>",
         "legendgroup": "Algoritmo Guloso",
         "line": {
          "color": "#FF7F0E",
          "dash": "solid"
         },
         "marker": {
          "symbol": "circle"
         },
         "mode": "lines+markers",
         "name": "Algoritmo Guloso",
         "orientation": "v",
         "showlegend": true,
         "type": "scatter",
         "x": [
          25,
          50,
          75,
          100,
          125,
          150
         ],
         "xaxis": "x",
         "y": [
          0,
          0,
          2,
          9,
          13,
          15
         ],
         "yaxis": "y"
        },
        {
         "hovertemplate": "variable=Algoritmo Guloso Aleatório<br>Tamanho do Grafo=%{x}<br>value=%{y}<extra></extra>",
         "legendgroup": "Algoritmo Guloso Aleatório",
         "line": {
          "color": "#2CA02C",
          "dash": "solid"
         },
         "marker": {
          "symbol": "circle"
         },
         "mode": "lines+markers",
         "name": "Algoritmo Guloso Aleatório",
         "orientation": "v",
         "showlegend": true,
         "type": "scatter",
         "x": [
          25,
          50,
          75,
          100,
          125,
          150
         ],
         "xaxis": "x",
         "y": [
          0,
          2,
          6,
          8,
          18,
          20
         ],
         "yaxis": "y"
        }
       ],
       "layout": {
        "legend": {
         "title": {
          "text": "Algoritmos"
         },
         "tracegroupgap": 0
        },
        "template": {
         "data": {
          "pie": [
           {
            "automargin": true,
            "type": "pie"
           }
          ],
          "scatter": [
           {
            "line": {
             "width": 3
            },
            "marker": {
             "size": 9
            },
            "type": "scatter"
           }
          ],
          "scatter3d": [
           {
            "line": {
             "width": 3
            },
            "marker": {
             "size": 9
            },
            "type": "scatter3d"
           }
          ],
          "scattergeo": [
           {
            "line": {
             "width": 3
            },
            "marker": {
             "size": 9
            },
            "type": "scattergeo"
           }
          ],
          "scattergl": [
           {
            "line": {
             "width": 3
            },
            "marker": {
             "size": 9
            },
            "type": "scattergl"
           }
          ],
          "scatterpolar": [
           {
            "line": {
             "width": 3
            },
            "marker": {
             "size": 9
            },
            "type": "scatterpolar"
           }
          ],
          "scatterpolargl": [
           {
            "line": {
             "width": 3
            },
            "marker": {
             "size": 9
            },
            "type": "scatterpolargl"
           }
          ],
          "scatterternary": [
           {
            "line": {
             "width": 3
            },
            "marker": {
             "size": 9
            },
            "type": "scatterternary"
           }
          ],
          "table": [
           {
            "cells": {
             "height": 30
            },
            "header": {
             "height": 36
            },
            "type": "table"
           }
          ]
         },
         "layout": {
          "font": {
           "size": 18
          },
          "xaxis": {
           "title": {
            "standoff": 15
           }
          },
          "yaxis": {
           "title": {
            "standoff": 15
           }
          }
         }
        },
        "title": {
         "text": "Tempo de Execução x Tamanho do Grafo"
        },
        "xaxis": {
         "anchor": "y",
         "domain": [
          0,
          1
         ],
         "title": {
          "text": "Tamanho do Grafo"
         }
        },
        "yaxis": {
         "anchor": "x",
         "domain": [
          0,
          1
         ],
         "title": {
          "text": "Tempo de execução (ms)"
         }
        }
       }
      },
      "text/html": [
       "<div>                            <div id=\"80205ad5-9a97-4d3b-9d06-65cc50fbe1a9\" class=\"plotly-graph-div\" style=\"height:525px; width:100%;\"></div>            <script type=\"text/javascript\">                require([\"plotly\"], function(Plotly) {                    window.PLOTLYENV=window.PLOTLYENV || {};                                    if (document.getElementById(\"80205ad5-9a97-4d3b-9d06-65cc50fbe1a9\")) {                    Plotly.newPlot(                        \"80205ad5-9a97-4d3b-9d06-65cc50fbe1a9\",                        [{\"hovertemplate\":\"variable=Algoritmo Exaustivo\\u003cbr\\u003eTamanho do Grafo=%{x}\\u003cbr\\u003evalue=%{y}\\u003cextra\\u003e\\u003c\\u002fextra\\u003e\",\"legendgroup\":\"Algoritmo Exaustivo\",\"line\":{\"color\":\"#1F77B4\",\"dash\":\"solid\"},\"marker\":{\"symbol\":\"circle\"},\"mode\":\"lines+markers\",\"name\":\"Algoritmo Exaustivo\",\"orientation\":\"v\",\"showlegend\":true,\"x\":[25,50,75,100,125,150],\"xaxis\":\"x\",\"y\":[0,11,210,2581,14806,86927],\"yaxis\":\"y\",\"type\":\"scatter\"},{\"hovertemplate\":\"variable=Algoritmo Guloso\\u003cbr\\u003eTamanho do Grafo=%{x}\\u003cbr\\u003evalue=%{y}\\u003cextra\\u003e\\u003c\\u002fextra\\u003e\",\"legendgroup\":\"Algoritmo Guloso\",\"line\":{\"color\":\"#FF7F0E\",\"dash\":\"solid\"},\"marker\":{\"symbol\":\"circle\"},\"mode\":\"lines+markers\",\"name\":\"Algoritmo Guloso\",\"orientation\":\"v\",\"showlegend\":true,\"x\":[25,50,75,100,125,150],\"xaxis\":\"x\",\"y\":[0,0,2,9,13,15],\"yaxis\":\"y\",\"type\":\"scatter\"},{\"hovertemplate\":\"variable=Algoritmo Guloso Aleat\\u00f3rio\\u003cbr\\u003eTamanho do Grafo=%{x}\\u003cbr\\u003evalue=%{y}\\u003cextra\\u003e\\u003c\\u002fextra\\u003e\",\"legendgroup\":\"Algoritmo Guloso Aleat\\u00f3rio\",\"line\":{\"color\":\"#2CA02C\",\"dash\":\"solid\"},\"marker\":{\"symbol\":\"circle\"},\"mode\":\"lines+markers\",\"name\":\"Algoritmo Guloso Aleat\\u00f3rio\",\"orientation\":\"v\",\"showlegend\":true,\"x\":[25,50,75,100,125,150],\"xaxis\":\"x\",\"y\":[0,2,6,8,18,20],\"yaxis\":\"y\",\"type\":\"scatter\"}],                        {\"template\":{\"data\":{\"pie\":[{\"automargin\":true,\"type\":\"pie\"}],\"scatter3d\":[{\"line\":{\"width\":3},\"marker\":{\"size\":9},\"type\":\"scatter3d\"}],\"scattergeo\":[{\"line\":{\"width\":3},\"marker\":{\"size\":9},\"type\":\"scattergeo\"}],\"scattergl\":[{\"line\":{\"width\":3},\"marker\":{\"size\":9},\"type\":\"scattergl\"}],\"scatterpolargl\":[{\"line\":{\"width\":3},\"marker\":{\"size\":9},\"type\":\"scatterpolargl\"}],\"scatterpolar\":[{\"line\":{\"width\":3},\"marker\":{\"size\":9},\"type\":\"scatterpolar\"}],\"scatter\":[{\"line\":{\"width\":3},\"marker\":{\"size\":9},\"type\":\"scatter\"}],\"scatterternary\":[{\"line\":{\"width\":3},\"marker\":{\"size\":9},\"type\":\"scatterternary\"}],\"table\":[{\"cells\":{\"height\":30},\"header\":{\"height\":36},\"type\":\"table\"}]},\"layout\":{\"font\":{\"size\":18},\"xaxis\":{\"title\":{\"standoff\":15}},\"yaxis\":{\"title\":{\"standoff\":15}}}},\"xaxis\":{\"anchor\":\"y\",\"domain\":[0.0,1.0],\"title\":{\"text\":\"Tamanho do Grafo\"}},\"yaxis\":{\"anchor\":\"x\",\"domain\":[0.0,1.0],\"title\":{\"text\":\"Tempo de execu\\u00e7\\u00e3o (ms)\"}},\"legend\":{\"title\":{\"text\":\"Algoritmos\"},\"tracegroupgap\":0},\"title\":{\"text\":\"Tempo de Execu\\u00e7\\u00e3o x Tamanho do Grafo\"}},                        {\"responsive\": true}                    ).then(function(){\n",
       "                            \n",
       "var gd = document.getElementById('80205ad5-9a97-4d3b-9d06-65cc50fbe1a9');\n",
       "var x = new MutationObserver(function (mutations, observer) {{\n",
       "        var display = window.getComputedStyle(gd).display;\n",
       "        if (!display || display === 'none') {{\n",
       "            console.log([gd, 'removed!']);\n",
       "            Plotly.purge(gd);\n",
       "            observer.disconnect();\n",
       "        }}\n",
       "}});\n",
       "\n",
       "// Listen for the removal of the full notebook cells\n",
       "var notebookContainer = gd.closest('#notebook-container');\n",
       "if (notebookContainer) {{\n",
       "    x.observe(notebookContainer, {childList: true});\n",
       "}}\n",
       "\n",
       "// Listen for the clearing of the current output cell\n",
       "var outputEl = gd.closest('.output');\n",
       "if (outputEl) {{\n",
       "    x.observe(outputEl, {childList: true});\n",
       "}}\n",
       "\n",
       "                        })                };                });            </script>        </div>"
      ]
     },
     "metadata": {},
     "output_type": "display_data"
    }
   ],
   "source": [
    "tamanho_grafos = [25, 50, 75, 100, 125, 150]\n",
    "tempos_execucao_exaustiva = [0, 11, 210, 2581, 14806, 86927]\n",
    "tempos_execucao_guloso = [0, 0, 2, 9, 13, 15]\n",
    "tempos_execucao_guloso_aleat = [0, 2, 6, 8, 18, 20]\n",
    "\n",
    "tempos_execucao = {\"Algoritmo Guloso\": tempos_execucao_guloso,\n",
    "                   \"Algoritmo Exaustivo\": tempos_execucao_exaustiva,\n",
    "                   \"Algoritmo Guloso Aleatório\": tempos_execucao_guloso_aleat,\n",
    "                   \"Tamanho do Grafo\": tamanho_grafos}\n",
    "\n",
    "fig = px.line(tempos_execucao, x=\"Tamanho do Grafo\", y=[\"Algoritmo Exaustivo\", \"Algoritmo Guloso\", \"Algoritmo Guloso Aleatório\"], labels={'x': 'Tamanho do Grafo'},\n",
    "              title='Tempo de Execução x Tamanho do Grafo', template=\"presentation\", markers=True)\n",
    "fig.update_layout(legend_title_text='Algoritmos')\n",
    "\n",
    "fig.update_yaxes(title_text = \"Tempo de execução (ms)\")\n",
    "\n",
    "fig.show()"
   ]
  },
  {
   "cell_type": "markdown",
   "metadata": {},
   "source": [
    "Novamente perto do algoritmo exaustivo os algoritmos gulosos parecem constantes mas ao ocultar o algoritmo exaustivo (clique no nome dele na legenda) é possível observar que o algoritmo guloso com aleatorização ficou bem próximo do algoritmo guloso, inclusive para um grafo de 100 vértices obteve um tempo até menor"
   ]
  },
  {
   "cell_type": "code",
   "execution_count": 63,
   "metadata": {},
   "outputs": [
    {
     "data": {
      "application/vnd.plotly.v1+json": {
       "config": {
        "plotlyServerURL": "https://plot.ly"
       },
       "data": [
        {
         "hovertemplate": "variable=Speedup Guloso<br>Tamanho do Grafo=%{x}<br>value=%{y}<extra></extra>",
         "legendgroup": "Speedup Guloso",
         "line": {
          "color": "#1F77B4",
          "dash": "solid"
         },
         "marker": {
          "symbol": "circle"
         },
         "mode": "lines+markers",
         "name": "Speedup Guloso",
         "orientation": "v",
         "showlegend": true,
         "type": "scatter",
         "x": [
          25,
          50,
          75,
          100,
          125,
          150
         ],
         "xaxis": "x",
         "y": [
          null,
          null,
          105,
          286,
          1138,
          5795
         ],
         "yaxis": "y"
        },
        {
         "hovertemplate": "variable=Speedup Guloso Aleatório<br>Tamanho do Grafo=%{x}<br>value=%{y}<extra></extra>",
         "legendgroup": "Speedup Guloso Aleatório",
         "line": {
          "color": "#FF7F0E",
          "dash": "solid"
         },
         "marker": {
          "symbol": "circle"
         },
         "mode": "lines+markers",
         "name": "Speedup Guloso Aleatório",
         "orientation": "v",
         "showlegend": true,
         "type": "scatter",
         "x": [
          25,
          50,
          75,
          100,
          125,
          150
         ],
         "xaxis": "x",
         "y": [
          null,
          5.5,
          35,
          322.625,
          822.55,
          4346.35
         ],
         "yaxis": "y"
        }
       ],
       "layout": {
        "legend": {
         "title": {
          "text": "Algoritmos"
         },
         "tracegroupgap": 0
        },
        "template": {
         "data": {
          "pie": [
           {
            "automargin": true,
            "type": "pie"
           }
          ],
          "scatter": [
           {
            "line": {
             "width": 3
            },
            "marker": {
             "size": 9
            },
            "type": "scatter"
           }
          ],
          "scatter3d": [
           {
            "line": {
             "width": 3
            },
            "marker": {
             "size": 9
            },
            "type": "scatter3d"
           }
          ],
          "scattergeo": [
           {
            "line": {
             "width": 3
            },
            "marker": {
             "size": 9
            },
            "type": "scattergeo"
           }
          ],
          "scattergl": [
           {
            "line": {
             "width": 3
            },
            "marker": {
             "size": 9
            },
            "type": "scattergl"
           }
          ],
          "scatterpolar": [
           {
            "line": {
             "width": 3
            },
            "marker": {
             "size": 9
            },
            "type": "scatterpolar"
           }
          ],
          "scatterpolargl": [
           {
            "line": {
             "width": 3
            },
            "marker": {
             "size": 9
            },
            "type": "scatterpolargl"
           }
          ],
          "scatterternary": [
           {
            "line": {
             "width": 3
            },
            "marker": {
             "size": 9
            },
            "type": "scatterternary"
           }
          ],
          "table": [
           {
            "cells": {
             "height": 30
            },
            "header": {
             "height": 36
            },
            "type": "table"
           }
          ]
         },
         "layout": {
          "font": {
           "size": 18
          },
          "xaxis": {
           "title": {
            "standoff": 15
           }
          },
          "yaxis": {
           "title": {
            "standoff": 15
           }
          }
         }
        },
        "title": {
         "text": "Speedup x Tamanho do Grafo"
        },
        "xaxis": {
         "anchor": "y",
         "domain": [
          0,
          1
         ],
         "title": {
          "text": "Tamanho do Grafo"
         }
        },
        "yaxis": {
         "anchor": "x",
         "domain": [
          0,
          1
         ],
         "title": {
          "text": "Speedup"
         }
        }
       }
      },
      "text/html": [
       "<div>                            <div id=\"45640f69-3d68-43b3-98fd-d3ec3af9bd0e\" class=\"plotly-graph-div\" style=\"height:525px; width:100%;\"></div>            <script type=\"text/javascript\">                require([\"plotly\"], function(Plotly) {                    window.PLOTLYENV=window.PLOTLYENV || {};                                    if (document.getElementById(\"45640f69-3d68-43b3-98fd-d3ec3af9bd0e\")) {                    Plotly.newPlot(                        \"45640f69-3d68-43b3-98fd-d3ec3af9bd0e\",                        [{\"hovertemplate\":\"variable=Speedup Guloso\\u003cbr\\u003eTamanho do Grafo=%{x}\\u003cbr\\u003evalue=%{y}\\u003cextra\\u003e\\u003c\\u002fextra\\u003e\",\"legendgroup\":\"Speedup Guloso\",\"line\":{\"color\":\"#1F77B4\",\"dash\":\"solid\"},\"marker\":{\"symbol\":\"circle\"},\"mode\":\"lines+markers\",\"name\":\"Speedup Guloso\",\"orientation\":\"v\",\"showlegend\":true,\"x\":[25,50,75,100,125,150],\"xaxis\":\"x\",\"y\":[null,null,105.0,286.0,1138.0,5795.0],\"yaxis\":\"y\",\"type\":\"scatter\"},{\"hovertemplate\":\"variable=Speedup Guloso Aleat\\u00f3rio\\u003cbr\\u003eTamanho do Grafo=%{x}\\u003cbr\\u003evalue=%{y}\\u003cextra\\u003e\\u003c\\u002fextra\\u003e\",\"legendgroup\":\"Speedup Guloso Aleat\\u00f3rio\",\"line\":{\"color\":\"#FF7F0E\",\"dash\":\"solid\"},\"marker\":{\"symbol\":\"circle\"},\"mode\":\"lines+markers\",\"name\":\"Speedup Guloso Aleat\\u00f3rio\",\"orientation\":\"v\",\"showlegend\":true,\"x\":[25,50,75,100,125,150],\"xaxis\":\"x\",\"y\":[null,5.5,35.0,322.625,822.55,4346.35],\"yaxis\":\"y\",\"type\":\"scatter\"}],                        {\"template\":{\"data\":{\"pie\":[{\"automargin\":true,\"type\":\"pie\"}],\"scatter3d\":[{\"line\":{\"width\":3},\"marker\":{\"size\":9},\"type\":\"scatter3d\"}],\"scattergeo\":[{\"line\":{\"width\":3},\"marker\":{\"size\":9},\"type\":\"scattergeo\"}],\"scattergl\":[{\"line\":{\"width\":3},\"marker\":{\"size\":9},\"type\":\"scattergl\"}],\"scatterpolargl\":[{\"line\":{\"width\":3},\"marker\":{\"size\":9},\"type\":\"scatterpolargl\"}],\"scatterpolar\":[{\"line\":{\"width\":3},\"marker\":{\"size\":9},\"type\":\"scatterpolar\"}],\"scatter\":[{\"line\":{\"width\":3},\"marker\":{\"size\":9},\"type\":\"scatter\"}],\"scatterternary\":[{\"line\":{\"width\":3},\"marker\":{\"size\":9},\"type\":\"scatterternary\"}],\"table\":[{\"cells\":{\"height\":30},\"header\":{\"height\":36},\"type\":\"table\"}]},\"layout\":{\"font\":{\"size\":18},\"xaxis\":{\"title\":{\"standoff\":15}},\"yaxis\":{\"title\":{\"standoff\":15}}}},\"xaxis\":{\"anchor\":\"y\",\"domain\":[0.0,1.0],\"title\":{\"text\":\"Tamanho do Grafo\"}},\"yaxis\":{\"anchor\":\"x\",\"domain\":[0.0,1.0],\"title\":{\"text\":\"Speedup\"}},\"legend\":{\"title\":{\"text\":\"Algoritmos\"},\"tracegroupgap\":0},\"title\":{\"text\":\"Speedup x Tamanho do Grafo\"}},                        {\"responsive\": true}                    ).then(function(){\n",
       "                            \n",
       "var gd = document.getElementById('45640f69-3d68-43b3-98fd-d3ec3af9bd0e');\n",
       "var x = new MutationObserver(function (mutations, observer) {{\n",
       "        var display = window.getComputedStyle(gd).display;\n",
       "        if (!display || display === 'none') {{\n",
       "            console.log([gd, 'removed!']);\n",
       "            Plotly.purge(gd);\n",
       "            observer.disconnect();\n",
       "        }}\n",
       "}});\n",
       "\n",
       "// Listen for the removal of the full notebook cells\n",
       "var notebookContainer = gd.closest('#notebook-container');\n",
       "if (notebookContainer) {{\n",
       "    x.observe(notebookContainer, {childList: true});\n",
       "}}\n",
       "\n",
       "// Listen for the clearing of the current output cell\n",
       "var outputEl = gd.closest('.output');\n",
       "if (outputEl) {{\n",
       "    x.observe(outputEl, {childList: true});\n",
       "}}\n",
       "\n",
       "                        })                };                });            </script>        </div>"
      ]
     },
     "metadata": {},
     "output_type": "display_data"
    }
   ],
   "source": [
    "tamanho_grafos = [25, 50, 75, 100, 125, 150]\n",
    "speedup_guloso = [None, None, 105, 286, 1138, 5795]\n",
    "speedup_guloso_aleat = [None, 5.5, 35, 322.625, 822.55, 4346.35]\n",
    "\n",
    "tempos_execucao = {\"Speedup Guloso\": speedup_guloso,\n",
    "                   \"Speedup Guloso Aleatório\": speedup_guloso_aleat,\n",
    "                   \"Tamanho do Grafo\": tamanho_grafos}\n",
    "\n",
    "fig = px.line(tempos_execucao, x=\"Tamanho do Grafo\", y=[\"Speedup Guloso\", \"Speedup Guloso Aleatório\"], labels={'x': 'Tamanho do Grafo'},\n",
    "              title='Speedup x Tamanho do Grafo', template=\"presentation\", markers=True)\n",
    "fig.update_yaxes(title_text = \"Speedup\")\n",
    "fig.update_layout(legend_title_text='Algoritmos')\n",
    "\n",
    "fig.show()"
   ]
  },
  {
   "cell_type": "markdown",
   "metadata": {},
   "source": [
    "Ao analisar o gráfico de speed up é possível observar uma análise de afastamento do algoritmo guloso para o algoritmo guloso com aleatorização, o que é esperado, devido a reordenação de vetores. O que pesa de maneira negativa para o algoritmo guloso com aleatorização é que para obter a maior acurácia que a solução pode oferecer é necessário executar mais de uma vez, o que irá aumentar seu tempo de execução, mas dado que o tempo de execução não cresce de maneira exponencial, pode ser uma boa troca para obter uma solução mais próxima da solução ótima."
   ]
  },
  {
   "cell_type": "markdown",
   "metadata": {},
   "source": [
    "## Quarta implementação: Paralelização do algoritmo guloso com aleatorização\n",
    "\n",
    "* **Descrição do problema**\n",
    "\n",
    "    A principal desvantagem do algoritmo guloso com aleatorização é o seu tempo que aumenta principalmente da necessidade de executá-lo várias vezes para obter a melhor solução que ele pode oferecer. Para resolver esse problema a quarta implementação é uma paralelização do algoritmo guloso com aleatorização, a ideia é que o `for` que percorre os vértices do grafo seja paralelizado, ou seja, cada thread irá executar uma parte do `for`, o que irá diminuir o tempo de execução do algoritmo, sendo o tempo de execução definido pela thread que demorar mais para executar. O algoritmo também possui uma etapa na qual somente uma thread irá executar, que é a etapa de verificar se o clique máximo encontrado é maior que o clique máximo encontrado até o momento, caso seja ele será o clique máximo, caso contrário será descartado.\n",
    "\n",
    "    Outro ponto é que a acurácia será a mesma da solução gulosa com aleatorização, pois a paralelização não irá alterar a lógica do algoritmo, apenas irá diminuir o tempo de execução.\n",
    "\n",
    "    E novamente é importante ressaltar que essa solução não encontra uma solução ótima global, mas busca uma aproximação maior que a versão anterior diminuindo a perda de desempenho.\n",
    "\n",
    "    > O código comentado está localizado em: `/implementations/greedy_random_parallel.cpp`"
   ]
  },
  {
   "cell_type": "code",
   "execution_count": 57,
   "metadata": {},
   "outputs": [],
   "source": [
    "# Para compilar:\n",
    "# !g++ -fopenmp -O3 ./implementations/greedy_parallel.cpp -o ./implementations/outputs/greedy_parallel"
   ]
  },
  {
   "cell_type": "code",
   "execution_count": 58,
   "metadata": {},
   "outputs": [],
   "source": [
    "# Para executar a implementação:\n",
    "# !./implementations/outputs/greedy_parallel"
   ]
  },
  {
   "cell_type": "markdown",
   "metadata": {},
   "source": [
    "| Tam. Grafo | Tempo exaus. (ms) | Tempo guloso (ms) |Tempo guloso aleat. (ms)| Tempo guloso aleat. paral. (ms) |Speedup guloso | Speedup aleat. | Speedup paralelo |\n",
    "|:----------:|:-----------------:|:-----------------:|:----------------------:|:-------------------------------:|:-------------:|:--------------:|:----------------:|\n",
    "| 25         | 0                 | 0                 | 0                      | 0                               | -             | -              | -                |\n",
    "| 50         | 11                | 0                 | 2                      | 2                               | -             | 5,5            | 5,5              |\n",
    "| 75         | 210               | 2                 | 6                      | 5                               | 105           | 35             | 42               |\n",
    "| 100        | 2581              | 9                 | 8                      | 6                               | 286,78        | 322,625        | 430,166          |\n",
    "| 125        | 14806             | 13                | 18                     | 14                              | 1138,92       | 822,55         | 1057,57          |\n",
    "| 150        | 86927             | 15                | 20                     | 18                              | 5795,13       | 4346,35        | 4829,28          |"
   ]
  },
  {
   "cell_type": "code",
   "execution_count": 59,
   "metadata": {},
   "outputs": [
    {
     "data": {
      "application/vnd.plotly.v1+json": {
       "config": {
        "plotlyServerURL": "https://plot.ly"
       },
       "data": [
        {
         "hovertemplate": "variable=Algoritmo Exaustivo<br>Tamanho do Grafo=%{x}<br>value=%{y}<extra></extra>",
         "legendgroup": "Algoritmo Exaustivo",
         "line": {
          "color": "#1F77B4",
          "dash": "solid"
         },
         "marker": {
          "symbol": "circle"
         },
         "mode": "lines+markers",
         "name": "Algoritmo Exaustivo",
         "orientation": "v",
         "showlegend": true,
         "type": "scatter",
         "x": [
          25,
          50,
          75,
          100,
          125,
          150
         ],
         "xaxis": "x",
         "y": [
          0,
          11,
          210,
          2581,
          14806,
          86927
         ],
         "yaxis": "y"
        },
        {
         "hovertemplate": "variable=Algoritmo Guloso<br>Tamanho do Grafo=%{x}<br>value=%{y}<extra></extra>",
         "legendgroup": "Algoritmo Guloso",
         "line": {
          "color": "#FF7F0E",
          "dash": "solid"
         },
         "marker": {
          "symbol": "circle"
         },
         "mode": "lines+markers",
         "name": "Algoritmo Guloso",
         "orientation": "v",
         "showlegend": true,
         "type": "scatter",
         "x": [
          25,
          50,
          75,
          100,
          125,
          150
         ],
         "xaxis": "x",
         "y": [
          0,
          0,
          2,
          9,
          13,
          15
         ],
         "yaxis": "y"
        },
        {
         "hovertemplate": "variable=Algoritmo Guloso Aleatório<br>Tamanho do Grafo=%{x}<br>value=%{y}<extra></extra>",
         "legendgroup": "Algoritmo Guloso Aleatório",
         "line": {
          "color": "#2CA02C",
          "dash": "solid"
         },
         "marker": {
          "symbol": "circle"
         },
         "mode": "lines+markers",
         "name": "Algoritmo Guloso Aleatório",
         "orientation": "v",
         "showlegend": true,
         "type": "scatter",
         "x": [
          25,
          50,
          75,
          100,
          125,
          150
         ],
         "xaxis": "x",
         "y": [
          0,
          2,
          6,
          8,
          18,
          20
         ],
         "yaxis": "y"
        },
        {
         "hovertemplate": "variable=Algoritmo Guloso Aleatório Paralelo<br>Tamanho do Grafo=%{x}<br>value=%{y}<extra></extra>",
         "legendgroup": "Algoritmo Guloso Aleatório Paralelo",
         "line": {
          "color": "#D62728",
          "dash": "solid"
         },
         "marker": {
          "symbol": "circle"
         },
         "mode": "lines+markers",
         "name": "Algoritmo Guloso Aleatório Paralelo",
         "orientation": "v",
         "showlegend": true,
         "type": "scatter",
         "x": [
          25,
          50,
          75,
          100,
          125,
          150
         ],
         "xaxis": "x",
         "y": [
          0,
          2,
          5,
          6,
          14,
          18
         ],
         "yaxis": "y"
        }
       ],
       "layout": {
        "legend": {
         "title": {
          "text": "Algoritmos"
         },
         "tracegroupgap": 0
        },
        "template": {
         "data": {
          "pie": [
           {
            "automargin": true,
            "type": "pie"
           }
          ],
          "scatter": [
           {
            "line": {
             "width": 3
            },
            "marker": {
             "size": 9
            },
            "type": "scatter"
           }
          ],
          "scatter3d": [
           {
            "line": {
             "width": 3
            },
            "marker": {
             "size": 9
            },
            "type": "scatter3d"
           }
          ],
          "scattergeo": [
           {
            "line": {
             "width": 3
            },
            "marker": {
             "size": 9
            },
            "type": "scattergeo"
           }
          ],
          "scattergl": [
           {
            "line": {
             "width": 3
            },
            "marker": {
             "size": 9
            },
            "type": "scattergl"
           }
          ],
          "scatterpolar": [
           {
            "line": {
             "width": 3
            },
            "marker": {
             "size": 9
            },
            "type": "scatterpolar"
           }
          ],
          "scatterpolargl": [
           {
            "line": {
             "width": 3
            },
            "marker": {
             "size": 9
            },
            "type": "scatterpolargl"
           }
          ],
          "scatterternary": [
           {
            "line": {
             "width": 3
            },
            "marker": {
             "size": 9
            },
            "type": "scatterternary"
           }
          ],
          "table": [
           {
            "cells": {
             "height": 30
            },
            "header": {
             "height": 36
            },
            "type": "table"
           }
          ]
         },
         "layout": {
          "font": {
           "size": 18
          },
          "xaxis": {
           "title": {
            "standoff": 15
           }
          },
          "yaxis": {
           "title": {
            "standoff": 15
           }
          }
         }
        },
        "title": {
         "text": "Tempo de Execução x Tamanho do Grafo"
        },
        "xaxis": {
         "anchor": "y",
         "domain": [
          0,
          1
         ],
         "title": {
          "text": "Tamanho do Grafo"
         }
        },
        "yaxis": {
         "anchor": "x",
         "domain": [
          0,
          1
         ],
         "title": {
          "text": "Tempo de execução (ms)"
         }
        }
       }
      },
      "text/html": [
       "<div>                            <div id=\"a9114e02-4b86-4b17-8c8a-1c2e56ff5798\" class=\"plotly-graph-div\" style=\"height:525px; width:100%;\"></div>            <script type=\"text/javascript\">                require([\"plotly\"], function(Plotly) {                    window.PLOTLYENV=window.PLOTLYENV || {};                                    if (document.getElementById(\"a9114e02-4b86-4b17-8c8a-1c2e56ff5798\")) {                    Plotly.newPlot(                        \"a9114e02-4b86-4b17-8c8a-1c2e56ff5798\",                        [{\"hovertemplate\":\"variable=Algoritmo Exaustivo\\u003cbr\\u003eTamanho do Grafo=%{x}\\u003cbr\\u003evalue=%{y}\\u003cextra\\u003e\\u003c\\u002fextra\\u003e\",\"legendgroup\":\"Algoritmo Exaustivo\",\"line\":{\"color\":\"#1F77B4\",\"dash\":\"solid\"},\"marker\":{\"symbol\":\"circle\"},\"mode\":\"lines+markers\",\"name\":\"Algoritmo Exaustivo\",\"orientation\":\"v\",\"showlegend\":true,\"x\":[25,50,75,100,125,150],\"xaxis\":\"x\",\"y\":[0,11,210,2581,14806,86927],\"yaxis\":\"y\",\"type\":\"scatter\"},{\"hovertemplate\":\"variable=Algoritmo Guloso\\u003cbr\\u003eTamanho do Grafo=%{x}\\u003cbr\\u003evalue=%{y}\\u003cextra\\u003e\\u003c\\u002fextra\\u003e\",\"legendgroup\":\"Algoritmo Guloso\",\"line\":{\"color\":\"#FF7F0E\",\"dash\":\"solid\"},\"marker\":{\"symbol\":\"circle\"},\"mode\":\"lines+markers\",\"name\":\"Algoritmo Guloso\",\"orientation\":\"v\",\"showlegend\":true,\"x\":[25,50,75,100,125,150],\"xaxis\":\"x\",\"y\":[0,0,2,9,13,15],\"yaxis\":\"y\",\"type\":\"scatter\"},{\"hovertemplate\":\"variable=Algoritmo Guloso Aleat\\u00f3rio\\u003cbr\\u003eTamanho do Grafo=%{x}\\u003cbr\\u003evalue=%{y}\\u003cextra\\u003e\\u003c\\u002fextra\\u003e\",\"legendgroup\":\"Algoritmo Guloso Aleat\\u00f3rio\",\"line\":{\"color\":\"#2CA02C\",\"dash\":\"solid\"},\"marker\":{\"symbol\":\"circle\"},\"mode\":\"lines+markers\",\"name\":\"Algoritmo Guloso Aleat\\u00f3rio\",\"orientation\":\"v\",\"showlegend\":true,\"x\":[25,50,75,100,125,150],\"xaxis\":\"x\",\"y\":[0,2,6,8,18,20],\"yaxis\":\"y\",\"type\":\"scatter\"},{\"hovertemplate\":\"variable=Algoritmo Guloso Aleat\\u00f3rio Paralelo\\u003cbr\\u003eTamanho do Grafo=%{x}\\u003cbr\\u003evalue=%{y}\\u003cextra\\u003e\\u003c\\u002fextra\\u003e\",\"legendgroup\":\"Algoritmo Guloso Aleat\\u00f3rio Paralelo\",\"line\":{\"color\":\"#D62728\",\"dash\":\"solid\"},\"marker\":{\"symbol\":\"circle\"},\"mode\":\"lines+markers\",\"name\":\"Algoritmo Guloso Aleat\\u00f3rio Paralelo\",\"orientation\":\"v\",\"showlegend\":true,\"x\":[25,50,75,100,125,150],\"xaxis\":\"x\",\"y\":[0,2,5,6,14,18],\"yaxis\":\"y\",\"type\":\"scatter\"}],                        {\"template\":{\"data\":{\"pie\":[{\"automargin\":true,\"type\":\"pie\"}],\"scatter3d\":[{\"line\":{\"width\":3},\"marker\":{\"size\":9},\"type\":\"scatter3d\"}],\"scattergeo\":[{\"line\":{\"width\":3},\"marker\":{\"size\":9},\"type\":\"scattergeo\"}],\"scattergl\":[{\"line\":{\"width\":3},\"marker\":{\"size\":9},\"type\":\"scattergl\"}],\"scatterpolargl\":[{\"line\":{\"width\":3},\"marker\":{\"size\":9},\"type\":\"scatterpolargl\"}],\"scatterpolar\":[{\"line\":{\"width\":3},\"marker\":{\"size\":9},\"type\":\"scatterpolar\"}],\"scatter\":[{\"line\":{\"width\":3},\"marker\":{\"size\":9},\"type\":\"scatter\"}],\"scatterternary\":[{\"line\":{\"width\":3},\"marker\":{\"size\":9},\"type\":\"scatterternary\"}],\"table\":[{\"cells\":{\"height\":30},\"header\":{\"height\":36},\"type\":\"table\"}]},\"layout\":{\"font\":{\"size\":18},\"xaxis\":{\"title\":{\"standoff\":15}},\"yaxis\":{\"title\":{\"standoff\":15}}}},\"xaxis\":{\"anchor\":\"y\",\"domain\":[0.0,1.0],\"title\":{\"text\":\"Tamanho do Grafo\"}},\"yaxis\":{\"anchor\":\"x\",\"domain\":[0.0,1.0],\"title\":{\"text\":\"Tempo de execu\\u00e7\\u00e3o (ms)\"}},\"legend\":{\"title\":{\"text\":\"Algoritmos\"},\"tracegroupgap\":0},\"title\":{\"text\":\"Tempo de Execu\\u00e7\\u00e3o x Tamanho do Grafo\"}},                        {\"responsive\": true}                    ).then(function(){\n",
       "                            \n",
       "var gd = document.getElementById('a9114e02-4b86-4b17-8c8a-1c2e56ff5798');\n",
       "var x = new MutationObserver(function (mutations, observer) {{\n",
       "        var display = window.getComputedStyle(gd).display;\n",
       "        if (!display || display === 'none') {{\n",
       "            console.log([gd, 'removed!']);\n",
       "            Plotly.purge(gd);\n",
       "            observer.disconnect();\n",
       "        }}\n",
       "}});\n",
       "\n",
       "// Listen for the removal of the full notebook cells\n",
       "var notebookContainer = gd.closest('#notebook-container');\n",
       "if (notebookContainer) {{\n",
       "    x.observe(notebookContainer, {childList: true});\n",
       "}}\n",
       "\n",
       "// Listen for the clearing of the current output cell\n",
       "var outputEl = gd.closest('.output');\n",
       "if (outputEl) {{\n",
       "    x.observe(outputEl, {childList: true});\n",
       "}}\n",
       "\n",
       "                        })                };                });            </script>        </div>"
      ]
     },
     "metadata": {},
     "output_type": "display_data"
    }
   ],
   "source": [
    "tamanho_grafos = [25, 50, 75, 100, 125, 150]\n",
    "tempos_execucao_exaustiva = [0, 11, 210, 2581, 14806, 86927]\n",
    "tempos_execucao_guloso = [0, 0, 2, 9, 13, 15]\n",
    "tempos_execucao_guloso_aleat = [0, 2, 6, 8, 18, 20]\n",
    "tempos_execucao_parallel = [0, 2, 5, 6, 14, 18]\n",
    "\n",
    "tempos_execucao = {\"Algoritmo Guloso\": tempos_execucao_guloso,\n",
    "                   \"Algoritmo Exaustivo\": tempos_execucao_exaustiva,\n",
    "                   \"Algoritmo Guloso Aleatório\": tempos_execucao_guloso_aleat,\n",
    "                   \"Algoritmo Guloso Aleatório Paralelo\": tempos_execucao_parallel,\n",
    "                   \"Tamanho do Grafo\": tamanho_grafos}\n",
    "\n",
    "fig = px.line(tempos_execucao, x=\"Tamanho do Grafo\", y=[\"Algoritmo Exaustivo\", \"Algoritmo Guloso\", \"Algoritmo Guloso Aleatório\", \"Algoritmo Guloso Aleatório Paralelo\"], labels={'x': 'Tamanho do Grafo'},\n",
    "              title='Tempo de Execução x Tamanho do Grafo', template=\"presentation\", markers=True)\n",
    "fig.update_layout(legend_title_text='Algoritmos')\n",
    "\n",
    "fig.update_yaxes(title_text = \"Tempo de execução (ms)\")\n",
    "\n",
    "fig.show()"
   ]
  },
  {
   "cell_type": "markdown",
   "metadata": {},
   "source": [
    "Como é possível notar no gráfico ao desabilitar o algoritmo exaustivo os tempos permaneceram próximos, entretanto é possível notar que o objetivo de reduzir o tempo de execução do algoritmo guloso com aleatorização foi alcançado com sucesso, sendo que em todos os pontos houve ou uma redução ou uma manutenção do tempo de execução."
   ]
  },
  {
   "cell_type": "code",
   "execution_count": 62,
   "metadata": {},
   "outputs": [
    {
     "data": {
      "application/vnd.plotly.v1+json": {
       "config": {
        "plotlyServerURL": "https://plot.ly"
       },
       "data": [
        {
         "hovertemplate": "variable=Speedup Guloso<br>Tamanho do Grafo=%{x}<br>value=%{y}<extra></extra>",
         "legendgroup": "Speedup Guloso",
         "line": {
          "color": "#1F77B4",
          "dash": "solid"
         },
         "marker": {
          "symbol": "circle"
         },
         "mode": "lines+markers",
         "name": "Speedup Guloso",
         "orientation": "v",
         "showlegend": true,
         "type": "scatter",
         "x": [
          25,
          50,
          75,
          100,
          125,
          150
         ],
         "xaxis": "x",
         "y": [
          null,
          null,
          105,
          286,
          1138,
          5795
         ],
         "yaxis": "y"
        },
        {
         "hovertemplate": "variable=Speedup Guloso Aleatório<br>Tamanho do Grafo=%{x}<br>value=%{y}<extra></extra>",
         "legendgroup": "Speedup Guloso Aleatório",
         "line": {
          "color": "#FF7F0E",
          "dash": "solid"
         },
         "marker": {
          "symbol": "circle"
         },
         "mode": "lines+markers",
         "name": "Speedup Guloso Aleatório",
         "orientation": "v",
         "showlegend": true,
         "type": "scatter",
         "x": [
          25,
          50,
          75,
          100,
          125,
          150
         ],
         "xaxis": "x",
         "y": [
          null,
          5.5,
          35,
          322.625,
          822.55,
          4346.35
         ],
         "yaxis": "y"
        },
        {
         "hovertemplate": "variable=Speedup Guloso Aleatório OpenMP<br>Tamanho do Grafo=%{x}<br>value=%{y}<extra></extra>",
         "legendgroup": "Speedup Guloso Aleatório OpenMP",
         "line": {
          "color": "#2CA02C",
          "dash": "solid"
         },
         "marker": {
          "symbol": "circle"
         },
         "mode": "lines+markers",
         "name": "Speedup Guloso Aleatório OpenMP",
         "orientation": "v",
         "showlegend": true,
         "type": "scatter",
         "x": [
          25,
          50,
          75,
          100,
          125,
          150
         ],
         "xaxis": "x",
         "y": [
          null,
          5.5,
          42,
          430.166,
          1057.57,
          4829.28
         ],
         "yaxis": "y"
        }
       ],
       "layout": {
        "legend": {
         "title": {
          "text": "Algoritmos"
         },
         "tracegroupgap": 0
        },
        "template": {
         "data": {
          "pie": [
           {
            "automargin": true,
            "type": "pie"
           }
          ],
          "scatter": [
           {
            "line": {
             "width": 3
            },
            "marker": {
             "size": 9
            },
            "type": "scatter"
           }
          ],
          "scatter3d": [
           {
            "line": {
             "width": 3
            },
            "marker": {
             "size": 9
            },
            "type": "scatter3d"
           }
          ],
          "scattergeo": [
           {
            "line": {
             "width": 3
            },
            "marker": {
             "size": 9
            },
            "type": "scattergeo"
           }
          ],
          "scattergl": [
           {
            "line": {
             "width": 3
            },
            "marker": {
             "size": 9
            },
            "type": "scattergl"
           }
          ],
          "scatterpolar": [
           {
            "line": {
             "width": 3
            },
            "marker": {
             "size": 9
            },
            "type": "scatterpolar"
           }
          ],
          "scatterpolargl": [
           {
            "line": {
             "width": 3
            },
            "marker": {
             "size": 9
            },
            "type": "scatterpolargl"
           }
          ],
          "scatterternary": [
           {
            "line": {
             "width": 3
            },
            "marker": {
             "size": 9
            },
            "type": "scatterternary"
           }
          ],
          "table": [
           {
            "cells": {
             "height": 30
            },
            "header": {
             "height": 36
            },
            "type": "table"
           }
          ]
         },
         "layout": {
          "font": {
           "size": 18
          },
          "xaxis": {
           "title": {
            "standoff": 15
           }
          },
          "yaxis": {
           "title": {
            "standoff": 15
           }
          }
         }
        },
        "title": {
         "text": "Speedup x Tamanho do Grafo"
        },
        "xaxis": {
         "anchor": "y",
         "domain": [
          0,
          1
         ],
         "title": {
          "text": "Tamanho do Grafo"
         }
        },
        "yaxis": {
         "anchor": "x",
         "domain": [
          0,
          1
         ],
         "title": {
          "text": "Speedup"
         }
        }
       }
      },
      "text/html": [
       "<div>                            <div id=\"442cdb5e-44cd-415e-a1e6-d37db98469a2\" class=\"plotly-graph-div\" style=\"height:525px; width:100%;\"></div>            <script type=\"text/javascript\">                require([\"plotly\"], function(Plotly) {                    window.PLOTLYENV=window.PLOTLYENV || {};                                    if (document.getElementById(\"442cdb5e-44cd-415e-a1e6-d37db98469a2\")) {                    Plotly.newPlot(                        \"442cdb5e-44cd-415e-a1e6-d37db98469a2\",                        [{\"hovertemplate\":\"variable=Speedup Guloso\\u003cbr\\u003eTamanho do Grafo=%{x}\\u003cbr\\u003evalue=%{y}\\u003cextra\\u003e\\u003c\\u002fextra\\u003e\",\"legendgroup\":\"Speedup Guloso\",\"line\":{\"color\":\"#1F77B4\",\"dash\":\"solid\"},\"marker\":{\"symbol\":\"circle\"},\"mode\":\"lines+markers\",\"name\":\"Speedup Guloso\",\"orientation\":\"v\",\"showlegend\":true,\"x\":[25,50,75,100,125,150],\"xaxis\":\"x\",\"y\":[null,null,105.0,286.0,1138.0,5795.0],\"yaxis\":\"y\",\"type\":\"scatter\"},{\"hovertemplate\":\"variable=Speedup Guloso Aleat\\u00f3rio\\u003cbr\\u003eTamanho do Grafo=%{x}\\u003cbr\\u003evalue=%{y}\\u003cextra\\u003e\\u003c\\u002fextra\\u003e\",\"legendgroup\":\"Speedup Guloso Aleat\\u00f3rio\",\"line\":{\"color\":\"#FF7F0E\",\"dash\":\"solid\"},\"marker\":{\"symbol\":\"circle\"},\"mode\":\"lines+markers\",\"name\":\"Speedup Guloso Aleat\\u00f3rio\",\"orientation\":\"v\",\"showlegend\":true,\"x\":[25,50,75,100,125,150],\"xaxis\":\"x\",\"y\":[null,5.5,35.0,322.625,822.55,4346.35],\"yaxis\":\"y\",\"type\":\"scatter\"},{\"hovertemplate\":\"variable=Speedup Guloso Aleat\\u00f3rio OpenMP\\u003cbr\\u003eTamanho do Grafo=%{x}\\u003cbr\\u003evalue=%{y}\\u003cextra\\u003e\\u003c\\u002fextra\\u003e\",\"legendgroup\":\"Speedup Guloso Aleat\\u00f3rio OpenMP\",\"line\":{\"color\":\"#2CA02C\",\"dash\":\"solid\"},\"marker\":{\"symbol\":\"circle\"},\"mode\":\"lines+markers\",\"name\":\"Speedup Guloso Aleat\\u00f3rio OpenMP\",\"orientation\":\"v\",\"showlegend\":true,\"x\":[25,50,75,100,125,150],\"xaxis\":\"x\",\"y\":[null,5.5,42.0,430.166,1057.57,4829.28],\"yaxis\":\"y\",\"type\":\"scatter\"}],                        {\"template\":{\"data\":{\"pie\":[{\"automargin\":true,\"type\":\"pie\"}],\"scatter3d\":[{\"line\":{\"width\":3},\"marker\":{\"size\":9},\"type\":\"scatter3d\"}],\"scattergeo\":[{\"line\":{\"width\":3},\"marker\":{\"size\":9},\"type\":\"scattergeo\"}],\"scattergl\":[{\"line\":{\"width\":3},\"marker\":{\"size\":9},\"type\":\"scattergl\"}],\"scatterpolargl\":[{\"line\":{\"width\":3},\"marker\":{\"size\":9},\"type\":\"scatterpolargl\"}],\"scatterpolar\":[{\"line\":{\"width\":3},\"marker\":{\"size\":9},\"type\":\"scatterpolar\"}],\"scatter\":[{\"line\":{\"width\":3},\"marker\":{\"size\":9},\"type\":\"scatter\"}],\"scatterternary\":[{\"line\":{\"width\":3},\"marker\":{\"size\":9},\"type\":\"scatterternary\"}],\"table\":[{\"cells\":{\"height\":30},\"header\":{\"height\":36},\"type\":\"table\"}]},\"layout\":{\"font\":{\"size\":18},\"xaxis\":{\"title\":{\"standoff\":15}},\"yaxis\":{\"title\":{\"standoff\":15}}}},\"xaxis\":{\"anchor\":\"y\",\"domain\":[0.0,1.0],\"title\":{\"text\":\"Tamanho do Grafo\"}},\"yaxis\":{\"anchor\":\"x\",\"domain\":[0.0,1.0],\"title\":{\"text\":\"Speedup\"}},\"legend\":{\"title\":{\"text\":\"Algoritmos\"},\"tracegroupgap\":0},\"title\":{\"text\":\"Speedup x Tamanho do Grafo\"}},                        {\"responsive\": true}                    ).then(function(){\n",
       "                            \n",
       "var gd = document.getElementById('442cdb5e-44cd-415e-a1e6-d37db98469a2');\n",
       "var x = new MutationObserver(function (mutations, observer) {{\n",
       "        var display = window.getComputedStyle(gd).display;\n",
       "        if (!display || display === 'none') {{\n",
       "            console.log([gd, 'removed!']);\n",
       "            Plotly.purge(gd);\n",
       "            observer.disconnect();\n",
       "        }}\n",
       "}});\n",
       "\n",
       "// Listen for the removal of the full notebook cells\n",
       "var notebookContainer = gd.closest('#notebook-container');\n",
       "if (notebookContainer) {{\n",
       "    x.observe(notebookContainer, {childList: true});\n",
       "}}\n",
       "\n",
       "// Listen for the clearing of the current output cell\n",
       "var outputEl = gd.closest('.output');\n",
       "if (outputEl) {{\n",
       "    x.observe(outputEl, {childList: true});\n",
       "}}\n",
       "\n",
       "                        })                };                });            </script>        </div>"
      ]
     },
     "metadata": {},
     "output_type": "display_data"
    }
   ],
   "source": [
    "tamanho_grafos = [25, 50, 75, 100, 125, 150]\n",
    "speedup_guloso = [None, None, 105, 286, 1138, 5795]\n",
    "speedup_guloso_aleat = [None, 5.5, 35, 322.625, 822.55, 4346.35]\n",
    "speedup_guloso_aleat_paral = [None, 5.5, 42, 430.166, 1057.57, 4829.28]\n",
    "\n",
    "tempos_execucao = {\"Speedup Guloso\": speedup_guloso,\n",
    "                   \"Speedup Guloso Aleatório\": speedup_guloso_aleat,\n",
    "                   \"Speedup Guloso Aleatório OpenMP\": speedup_guloso_aleat_paral,\n",
    "                   \"Tamanho do Grafo\": tamanho_grafos}\n",
    "\n",
    "fig = px.line(tempos_execucao, x=\"Tamanho do Grafo\", y=[\"Speedup Guloso\", \"Speedup Guloso Aleatório\", \"Speedup Guloso Aleatório OpenMP\"], labels={'x': 'Tamanho do Grafo'},\n",
    "              title='Speedup x Tamanho do Grafo', template=\"presentation\", markers=True)\n",
    "\n",
    "fig.update_layout(legend_title_text='Algoritmos')\n",
    "fig.update_yaxes(title_text = \"Speedup\")\n",
    "\n",
    "fig.show()"
   ]
  },
  {
   "cell_type": "markdown",
   "metadata": {},
   "source": [
    "Como é possível notar no gráfico de speedup a versão paralela do algoritmo guloso aleatório ficou melhor colocada que a versão sem paralelização, entretanto continuou abaixo da versão gulosa sem aleatorização, como é possível notar mesmo paralelizando a reordenação de vetores causada pela aleatorização teve um impacto no tempo de execução."
   ]
  },
  {
   "cell_type": "markdown",
   "metadata": {},
   "source": [
    "## Conclusão\n",
    "\n",
    "Dadas as 4 implementações é possível concluir que caso não seja estritamente necessário encontrar o exato clique máximo, a utilização de heuristícas e outros métodos de otimização conseguem ter uma complexidade polinomial tornando a execução viável mesmo para grafos grandes, embora se perca um pouco da acurácia. A utilização de paralelismo também contribuiria para a redução do tempo de execução, como foi mostrado pela quarta implementação. Entretanto para encontrar a solução ótima global, como além de ser um problema NP-hard ele também é um problema NP-Completo, a menos que alguém prove que P=NP (se isso for verdade), continuará sendo necessário utilizar algoritmos exponenciais para encontrar a solução ótima global, o que torna a execução inviável para grafos grandes.\n",
    "\n",
    "Por fim, a solução em MPI não foi implementada mas a expectativa é que não obteria um desempenho melhor do que a versão com OpenMP devido a limitação de hardware da máquina utilizada para os testes, que é um cluster virtual e não conseguiria obter um desempenho superior ao que rodasse na máquina diretamente, também por limitações criadas pelo VirtualBox que utilizaria o processamento da máquina para rodar o cluster virtual limitando ainda mais o desempenho. Entretanto caso a versão com OpenMP rodasse em um nó e depois fosse feito um teste com MPI rodando em vários nós, a expectativa é que o desempenho fosse melhor."
   ]
  },
  {
   "cell_type": "markdown",
   "metadata": {},
   "source": []
  }
 ],
 "metadata": {
  "kernelspec": {
   "display_name": "Python 3",
   "language": "python",
   "name": "python3"
  },
  "language_info": {
   "codemirror_mode": {
    "name": "ipython",
    "version": 3
   },
   "file_extension": ".py",
   "mimetype": "text/x-python",
   "name": "python",
   "nbconvert_exporter": "python",
   "pygments_lexer": "ipython3",
   "version": "3.10.12"
  }
 },
 "nbformat": 4,
 "nbformat_minor": 2
}
