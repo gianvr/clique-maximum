{
 "cells": [
  {
   "cell_type": "markdown",
   "metadata": {},
   "source": [
    "# Problema do clique máximo\n",
    "\n",
    "![Exemplo Clique](https://upload.wikimedia.org/wikipedia/commons/thumb/d/d0/VR_complex.svg/1200px-VR_complex.svg.png)\n",
    "\n",
    "## Descrição do problema\n",
    "\n",
    "### O que é um clique?\n",
    "  \n",
    "  - Um clique é um subconjunto de vértices de um grafo tal que todos os vértices são adjacentes entre si.\n",
    "\n",
    "  - Formalmente, um clique é um subconjunto $C$ de vértices de um grafo $G = (V, E)$ tal que para todo par de vértices $u, v \\in C$, $uv \\in E$.\n",
    "  \n",
    "### O que é um clique máximo?\n",
    "\n",
    "  - Um clique máximo é o maior clique de um grafo, ou seja, um clique que não é subconjunto de nenhum outro clique.\n",
    "\n",
    "  - Formalmente, um clique $C$ é máximo se não existe um clique $C'$ tal que $|C'| > |C|$.\n",
    "\n",
    "### Dificuldade do problema\n",
    "\n",
    "  O problema é considerado NP-Hard e ao mesmo tempo NP-Completo, ou seja, não se sabe se existe um algoritmo polinomial para resolvê-lo, entretanto existem aproximações que podem ser feitas em tempo polinomial mas que não garantem a solução ótima. \n",
    "\n",
    "> Em `/implementations/example.cpp` está a implementação do código em C++ feito com o pseudo-código proposto no enunciado.\n",
    "\n",
    "### Metodologia\n",
    "\n",
    "Foram criados grafos de 25, 50, 75, 100, 125 e 150 vértices para a análise. Serão usadas como métricas o tamanho do clique máximo encontrado e sua proximidade da solução ótima obtida com o código de exemplo(disponível em: `/python/verify_max_clique.py`), e o tempo de execução do algoritmo e seu **speedup**."
   ]
  },
  {
   "cell_type": "code",
   "execution_count": 4,
   "metadata": {},
   "outputs": [
    {
     "name": "stdout",
     "output_type": "stream",
     "text": [
      "Para um clique de tamanho 25\n",
      "Tamanho do Clique Máximo: 9\n",
      "\n",
      "Para um clique de tamanho 50\n",
      "Tamanho do Clique Máximo: 11\n",
      "\n",
      "Para um clique de tamanho 75\n",
      "Tamanho do Clique Máximo: 13\n",
      "\n",
      "Para um clique de tamanho 100\n",
      "Tamanho do Clique Máximo: 15\n",
      "\n",
      "Para um clique de tamanho 125\n",
      "Tamanho do Clique Máximo: 15\n",
      "\n",
      "Para um clique de tamanho 150\n",
      "Tamanho do Clique Máximo: 17\n",
      "\n"
     ]
    }
   ],
   "source": [
    "# Verificar clique máximo\n",
    "# !python3 ./python/verify_max_clique.py\n",
    "\n",
    "# ou\n",
    "\n",
    "# !python ./python/verify_max_clique.py"
   ]
  },
  {
   "cell_type": "markdown",
   "metadata": {},
   "source": [
    "## Primeira implementação: Versão exaustiva utilizando recursão\n",
    "\n",
    "* **Descrição da implementação**\n",
    "\n",
    "    Para a primeira implementação foi realizada uma versão exaustiva utilizando recursão. A ideia é que para cada vértice do grafo é feita uma busca em profundidade para encontrar o clique máximo que contém aquele vértice. No caso se um vértice já foi calculado ele não irá entrar nessa busca, por exemplo, se já foi encontrado clique máximo contém o vértice 2, ao procurar pelo clique máximo do vértice 3 ele não irá utilizar o vértice 2 e o vértice 1 por já terem sido encontrados, isso garante uma maior eficiência, não sendo necessário calcular novamente o que já foi calculado. Após encontrar o clique máximo de cada vértice irá ser verificado se é maior que o maior clique encontrado até o momento, caso seja ele será o maior, caso contrário será descartado.\n",
    "\n",
    "> Essa implementação encontra a solução ótima global, portanto sua acurácia é de 100%\n",
    "\n",
    "> O código comentado está localizado em `/implementations/exaustive.cpp`"
   ]
  },
  {
   "cell_type": "code",
   "execution_count": null,
   "metadata": {},
   "outputs": [],
   "source": [
    "# Para compilar:\n",
    "# !g++ -O3 ./implementations/exaustive.cpp -o ./implementations/outputs/exaustive"
   ]
  },
  {
   "cell_type": "code",
   "execution_count": 2,
   "metadata": {},
   "outputs": [
    {
     "name": "stdout",
     "output_type": "stream",
     "text": [
      "Para um clique de tamanho 25\n",
      "Tempo de execução: 0ms\n",
      "Tamanho do Clique Máximo: 9\n",
      "\n",
      "Para um clique de tamanho 50\n",
      "Tempo de execução: 11ms\n",
      "Tamanho do Clique Máximo: 11\n",
      "\n",
      "Para um clique de tamanho 75\n",
      "Tempo de execução: 210ms\n",
      "Tamanho do Clique Máximo: 13\n",
      "\n",
      "Para um clique de tamanho 100\n",
      "Tempo de execução: 2581ms\n",
      "Tamanho do Clique Máximo: 15\n",
      "\n",
      "Para um clique de tamanho 125\n",
      "Tempo de execução: 14806ms\n",
      "Tamanho do Clique Máximo: 15\n",
      "\n",
      "Para um clique de tamanho 150\n",
      "Tempo de execução: 86927ms\n",
      "Tamanho do Clique Máximo: 17\n",
      "\n"
     ]
    }
   ],
   "source": [
    "# Para executar a implementação:\n",
    "# !./implementations/outputs/exaustive "
   ]
  },
  {
   "cell_type": "code",
   "execution_count": 9,
   "metadata": {},
   "outputs": [
    {
     "data": {
      "application/vnd.plotly.v1+json": {
       "config": {
        "plotlyServerURL": "https://plot.ly"
       },
       "data": [
        {
         "hovertemplate": "Tamanho do Grafo=%{x}<br>Tempo de Execução (ms)=%{y}<extra></extra>",
         "legendgroup": "",
         "line": {
          "color": "#1F77B4",
          "dash": "solid"
         },
         "marker": {
          "symbol": "circle"
         },
         "mode": "lines+markers",
         "name": "",
         "orientation": "v",
         "showlegend": false,
         "type": "scatter",
         "x": [
          25,
          50,
          75,
          100,
          125,
          150
         ],
         "xaxis": "x",
         "y": [
          0,
          11,
          210,
          2581,
          14806,
          86927
         ],
         "yaxis": "y"
        }
       ],
       "layout": {
        "legend": {
         "tracegroupgap": 0
        },
        "template": {
         "data": {
          "pie": [
           {
            "automargin": true,
            "type": "pie"
           }
          ],
          "scatter": [
           {
            "line": {
             "width": 3
            },
            "marker": {
             "size": 9
            },
            "type": "scatter"
           }
          ],
          "scatter3d": [
           {
            "line": {
             "width": 3
            },
            "marker": {
             "size": 9
            },
            "type": "scatter3d"
           }
          ],
          "scattergeo": [
           {
            "line": {
             "width": 3
            },
            "marker": {
             "size": 9
            },
            "type": "scattergeo"
           }
          ],
          "scattergl": [
           {
            "line": {
             "width": 3
            },
            "marker": {
             "size": 9
            },
            "type": "scattergl"
           }
          ],
          "scatterpolar": [
           {
            "line": {
             "width": 3
            },
            "marker": {
             "size": 9
            },
            "type": "scatterpolar"
           }
          ],
          "scatterpolargl": [
           {
            "line": {
             "width": 3
            },
            "marker": {
             "size": 9
            },
            "type": "scatterpolargl"
           }
          ],
          "scatterternary": [
           {
            "line": {
             "width": 3
            },
            "marker": {
             "size": 9
            },
            "type": "scatterternary"
           }
          ],
          "table": [
           {
            "cells": {
             "height": 30
            },
            "header": {
             "height": 36
            },
            "type": "table"
           }
          ]
         },
         "layout": {
          "font": {
           "size": 18
          },
          "xaxis": {
           "title": {
            "standoff": 15
           }
          },
          "yaxis": {
           "title": {
            "standoff": 15
           }
          }
         }
        },
        "title": {
         "text": "Tempo de Execução x Tamanho do Grafo"
        },
        "xaxis": {
         "anchor": "y",
         "domain": [
          0,
          1
         ],
         "title": {
          "text": "Tamanho do Grafo"
         }
        },
        "yaxis": {
         "anchor": "x",
         "domain": [
          0,
          1
         ],
         "title": {
          "text": "Tempo de Execução (ms)"
         }
        }
       }
      },
      "text/html": [
       "<div>                            <div id=\"60af901a-a9ad-4468-add8-96bd0f26e930\" class=\"plotly-graph-div\" style=\"height:525px; width:100%;\"></div>            <script type=\"text/javascript\">                require([\"plotly\"], function(Plotly) {                    window.PLOTLYENV=window.PLOTLYENV || {};                                    if (document.getElementById(\"60af901a-a9ad-4468-add8-96bd0f26e930\")) {                    Plotly.newPlot(                        \"60af901a-a9ad-4468-add8-96bd0f26e930\",                        [{\"hovertemplate\":\"Tamanho do Grafo=%{x}\\u003cbr\\u003eTempo de Execu\\u00e7\\u00e3o (ms)=%{y}\\u003cextra\\u003e\\u003c\\u002fextra\\u003e\",\"legendgroup\":\"\",\"line\":{\"color\":\"#1F77B4\",\"dash\":\"solid\"},\"marker\":{\"symbol\":\"circle\"},\"mode\":\"lines+markers\",\"name\":\"\",\"orientation\":\"v\",\"showlegend\":false,\"x\":[25,50,75,100,125,150],\"xaxis\":\"x\",\"y\":[0,11,210,2581,14806,86927],\"yaxis\":\"y\",\"type\":\"scatter\"}],                        {\"template\":{\"data\":{\"pie\":[{\"automargin\":true,\"type\":\"pie\"}],\"scatter3d\":[{\"line\":{\"width\":3},\"marker\":{\"size\":9},\"type\":\"scatter3d\"}],\"scattergeo\":[{\"line\":{\"width\":3},\"marker\":{\"size\":9},\"type\":\"scattergeo\"}],\"scattergl\":[{\"line\":{\"width\":3},\"marker\":{\"size\":9},\"type\":\"scattergl\"}],\"scatterpolargl\":[{\"line\":{\"width\":3},\"marker\":{\"size\":9},\"type\":\"scatterpolargl\"}],\"scatterpolar\":[{\"line\":{\"width\":3},\"marker\":{\"size\":9},\"type\":\"scatterpolar\"}],\"scatter\":[{\"line\":{\"width\":3},\"marker\":{\"size\":9},\"type\":\"scatter\"}],\"scatterternary\":[{\"line\":{\"width\":3},\"marker\":{\"size\":9},\"type\":\"scatterternary\"}],\"table\":[{\"cells\":{\"height\":30},\"header\":{\"height\":36},\"type\":\"table\"}]},\"layout\":{\"font\":{\"size\":18},\"xaxis\":{\"title\":{\"standoff\":15}},\"yaxis\":{\"title\":{\"standoff\":15}}}},\"xaxis\":{\"anchor\":\"y\",\"domain\":[0.0,1.0],\"title\":{\"text\":\"Tamanho do Grafo\"}},\"yaxis\":{\"anchor\":\"x\",\"domain\":[0.0,1.0],\"title\":{\"text\":\"Tempo de Execu\\u00e7\\u00e3o (ms)\"}},\"legend\":{\"tracegroupgap\":0},\"title\":{\"text\":\"Tempo de Execu\\u00e7\\u00e3o x Tamanho do Grafo\"}},                        {\"responsive\": true}                    ).then(function(){\n",
       "                            \n",
       "var gd = document.getElementById('60af901a-a9ad-4468-add8-96bd0f26e930');\n",
       "var x = new MutationObserver(function (mutations, observer) {{\n",
       "        var display = window.getComputedStyle(gd).display;\n",
       "        if (!display || display === 'none') {{\n",
       "            console.log([gd, 'removed!']);\n",
       "            Plotly.purge(gd);\n",
       "            observer.disconnect();\n",
       "        }}\n",
       "}});\n",
       "\n",
       "// Listen for the removal of the full notebook cells\n",
       "var notebookContainer = gd.closest('#notebook-container');\n",
       "if (notebookContainer) {{\n",
       "    x.observe(notebookContainer, {childList: true});\n",
       "}}\n",
       "\n",
       "// Listen for the clearing of the current output cell\n",
       "var outputEl = gd.closest('.output');\n",
       "if (outputEl) {{\n",
       "    x.observe(outputEl, {childList: true});\n",
       "}}\n",
       "\n",
       "                        })                };                });            </script>        </div>"
      ]
     },
     "metadata": {},
     "output_type": "display_data"
    }
   ],
   "source": [
    "import plotly.express as px\n",
    "\n",
    "tamanho_grafos = [25, 50, 75, 100, 125, 150]\n",
    "tempos_execucao_exaustiva = [0, 11, 210, 2581, 14806, 86927]\n",
    "\n",
    "fig = px.line(x=tamanho_grafos, y=tempos_execucao_exaustiva, labels={'x': 'Tamanho do Grafo', 'y': 'Tempo de Execução (ms)'},\n",
    "              title='Tempo de Execução x Tamanho do Grafo', template=\"presentation\", markers=True )\n",
    "\n",
    "fig.show()"
   ]
  },
  {
   "cell_type": "markdown",
   "metadata": {},
   "source": [
    "**Conclusão**: Como é possível perceber no gráfico acima, o tempo cresce exponencialmente com a entrada do problema, portanto não é uma solução viável para grafos relativamente grandes. "
   ]
  },
  {
   "cell_type": "markdown",
   "metadata": {},
   "source": [
    "## Segunda implementação: Heurística gulosa\n",
    "\n",
    "* **Descrição da implementação**\n",
    "\n",
    "    A segunda implementação faz uso do degree dos vértices, um vetor com o indíce de todos os vértices é ordenado de maneira crescente de acordo com o degree, após isso é encontrado o clique máximo de cada vértice baseado no maior valor de degree, ou seja, ao selecionar um vértice para encontrar o clique máximo, o primeiro vértice a ser verificado será o que possui o maior degree e caso tenha uma aresta conectada ao vértice selecionado, ele será adicionado, caso contrário será descartado. Para o próximo vértice a ser verificado, será selecionado o vértice com o maior degree e caso ele tenha aresta com todos os vértices do clique atual, ele será adicionado, caso contrário será descartado. A cada verificação os vértices que não possuem aresta com o clique são descartados, isso garante uma maior eficiência, pois não é necessário verificar todos os vértices novamente. Após encontrar o clique máximo de cada vértice utilizando essa heurística é verificado se é maior que o maior clique encontrado até o momento, caso seja ele será o maior, caso contrário será descartado.\n",
    "\n",
    "    Importante ressaltar que essa implementação não garante a solução ótima, funcionando melhor para grafos menores, o que melhora sua velocidade de execução, porém diminui sua acurácia.\n",
    "\n",
    "    > O código comentado está localizado em `/implementations/greedy.cpp`"
   ]
  },
  {
   "cell_type": "code",
   "execution_count": null,
   "metadata": {},
   "outputs": [],
   "source": [
    "# Para compilar:\n",
    "# !g++ -O3 ./implementations/exaustive.cpp -o ./implementations/outputs/exaustive"
   ]
  },
  {
   "cell_type": "code",
   "execution_count": 10,
   "metadata": {},
   "outputs": [
    {
     "name": "stdout",
     "output_type": "stream",
     "text": [
      "Para um clique de tamanho 25\n",
      "Tempo de execução: 0ms\n",
      "Tamanho do Clique Máximo: 9\n",
      "\n",
      "Para um clique de tamanho 50\n",
      "Tempo de execução: 0ms\n",
      "Tamanho do Clique Máximo: 9\n",
      "\n",
      "Para um clique de tamanho 75\n",
      "Tempo de execução: 2ms\n",
      "Tamanho do Clique Máximo: 11\n",
      "\n",
      "Para um clique de tamanho 100\n",
      "Tempo de execução: 9ms\n",
      "Tamanho do Clique Máximo: 12\n",
      "\n",
      "Para um clique de tamanho 125\n",
      "Tempo de execução: 13ms\n",
      "Tamanho do Clique Máximo: 13\n",
      "\n",
      "Para um clique de tamanho 150\n",
      "Tempo de execução: 15ms\n",
      "Tamanho do Clique Máximo: 13\n",
      "\n"
     ]
    }
   ],
   "source": [
    "# Para executar a implementação:\n",
    "# !./implementations/outputs/greedy"
   ]
  },
  {
   "cell_type": "markdown",
   "metadata": {},
   "source": [
    "| Tam. Grafo | Clique máximo correto | Clique máximo obtido| Acurácia | Tempo exaus. (ms) | Tempo guloso (ms) | Speedup |\n",
    "|:----------:|:---------------------:|:-------------------:|:--------:|:-----------------:|:-----------------:|:-------:|\n",
    "| 25         | 9                     | 9                   | 100%     | 0                 | 0                 | -       |\n",
    "| 50         | 11                    | 9                   | 81,81%   | 11                | 0                 | -       |\n",
    "| 75         | 13                    | 11                  | 84,61%   | 210               | 2                 | 105     |\n",
    "| 100        | 15                    | 12                  | 80%      | 2581              | 9                 | 286,78  |\n",
    "| 125        | 15                    | 13                  | 86,67%   | 14806             | 13                | 1138,92 |\n",
    "| 150        | 17                    | 13                  | 76,47%   | 86927             | 15                | 5795,13 |\n"
   ]
  },
  {
   "cell_type": "markdown",
   "metadata": {},
   "source": [
    "Como era esperado, o tempo de execução do algoritmo guloso é muito menor que o tempo de execução do algoritmo exaustivo, devido o algoritmo exaustivo ter complexidade exponencial, enquanto o algoritmo guloso tem complexidade polinomial. Entretanto, como o algoritmo guloso não garante a solução ótima, sua acurácia é menor que 100% na maioria dos casos, sendo na maioria das vezes maior que 80%."
   ]
  },
  {
   "cell_type": "code",
   "execution_count": 21,
   "metadata": {},
   "outputs": [
    {
     "data": {
      "application/vnd.plotly.v1+json": {
       "config": {
        "plotlyServerURL": "https://plot.ly"
       },
       "data": [
        {
         "hovertemplate": "variable=Algoritmo Exaustivo<br>Tamanho do Grafo=%{x}<br>value=%{y}<extra></extra>",
         "legendgroup": "Algoritmo Exaustivo",
         "line": {
          "color": "#1F77B4",
          "dash": "solid"
         },
         "marker": {
          "symbol": "circle"
         },
         "mode": "lines+markers",
         "name": "Algoritmo Exaustivo",
         "orientation": "v",
         "showlegend": true,
         "type": "scatter",
         "x": [
          25,
          50,
          75,
          100,
          125,
          150
         ],
         "xaxis": "x",
         "y": [
          0,
          11,
          210,
          2581,
          14806,
          86927
         ],
         "yaxis": "y"
        },
        {
         "hovertemplate": "variable=Algoritmo Guloso<br>Tamanho do Grafo=%{x}<br>value=%{y}<extra></extra>",
         "legendgroup": "Algoritmo Guloso",
         "line": {
          "color": "#FF7F0E",
          "dash": "solid"
         },
         "marker": {
          "symbol": "circle"
         },
         "mode": "lines+markers",
         "name": "Algoritmo Guloso",
         "orientation": "v",
         "showlegend": true,
         "type": "scatter",
         "x": [
          25,
          50,
          75,
          100,
          125,
          150
         ],
         "xaxis": "x",
         "y": [
          0,
          0,
          2,
          9,
          13,
          15
         ],
         "yaxis": "y"
        }
       ],
       "layout": {
        "legend": {
         "title": {
          "text": "Algoritmos"
         },
         "tracegroupgap": 0
        },
        "template": {
         "data": {
          "pie": [
           {
            "automargin": true,
            "type": "pie"
           }
          ],
          "scatter": [
           {
            "line": {
             "width": 3
            },
            "marker": {
             "size": 9
            },
            "type": "scatter"
           }
          ],
          "scatter3d": [
           {
            "line": {
             "width": 3
            },
            "marker": {
             "size": 9
            },
            "type": "scatter3d"
           }
          ],
          "scattergeo": [
           {
            "line": {
             "width": 3
            },
            "marker": {
             "size": 9
            },
            "type": "scattergeo"
           }
          ],
          "scattergl": [
           {
            "line": {
             "width": 3
            },
            "marker": {
             "size": 9
            },
            "type": "scattergl"
           }
          ],
          "scatterpolar": [
           {
            "line": {
             "width": 3
            },
            "marker": {
             "size": 9
            },
            "type": "scatterpolar"
           }
          ],
          "scatterpolargl": [
           {
            "line": {
             "width": 3
            },
            "marker": {
             "size": 9
            },
            "type": "scatterpolargl"
           }
          ],
          "scatterternary": [
           {
            "line": {
             "width": 3
            },
            "marker": {
             "size": 9
            },
            "type": "scatterternary"
           }
          ],
          "table": [
           {
            "cells": {
             "height": 30
            },
            "header": {
             "height": 36
            },
            "type": "table"
           }
          ]
         },
         "layout": {
          "font": {
           "size": 18
          },
          "xaxis": {
           "title": {
            "standoff": 15
           }
          },
          "yaxis": {
           "title": {
            "standoff": 15
           }
          }
         }
        },
        "title": {
         "text": "Tempo de Execução x Tamanho do Grafo"
        },
        "xaxis": {
         "anchor": "y",
         "domain": [
          0,
          1
         ],
         "title": {
          "text": "Tamanho do Grafo"
         }
        },
        "yaxis": {
         "anchor": "x",
         "domain": [
          0,
          1
         ],
         "title": {
          "text": "Tempo de execução (ms)"
         }
        }
       }
      },
      "text/html": [
       "<div>                            <div id=\"eaf7f80a-39cb-4ad7-9283-b010ca336360\" class=\"plotly-graph-div\" style=\"height:525px; width:100%;\"></div>            <script type=\"text/javascript\">                require([\"plotly\"], function(Plotly) {                    window.PLOTLYENV=window.PLOTLYENV || {};                                    if (document.getElementById(\"eaf7f80a-39cb-4ad7-9283-b010ca336360\")) {                    Plotly.newPlot(                        \"eaf7f80a-39cb-4ad7-9283-b010ca336360\",                        [{\"hovertemplate\":\"variable=Algoritmo Exaustivo\\u003cbr\\u003eTamanho do Grafo=%{x}\\u003cbr\\u003evalue=%{y}\\u003cextra\\u003e\\u003c\\u002fextra\\u003e\",\"legendgroup\":\"Algoritmo Exaustivo\",\"line\":{\"color\":\"#1F77B4\",\"dash\":\"solid\"},\"marker\":{\"symbol\":\"circle\"},\"mode\":\"lines+markers\",\"name\":\"Algoritmo Exaustivo\",\"orientation\":\"v\",\"showlegend\":true,\"x\":[25,50,75,100,125,150],\"xaxis\":\"x\",\"y\":[0,11,210,2581,14806,86927],\"yaxis\":\"y\",\"type\":\"scatter\"},{\"hovertemplate\":\"variable=Algoritmo Guloso\\u003cbr\\u003eTamanho do Grafo=%{x}\\u003cbr\\u003evalue=%{y}\\u003cextra\\u003e\\u003c\\u002fextra\\u003e\",\"legendgroup\":\"Algoritmo Guloso\",\"line\":{\"color\":\"#FF7F0E\",\"dash\":\"solid\"},\"marker\":{\"symbol\":\"circle\"},\"mode\":\"lines+markers\",\"name\":\"Algoritmo Guloso\",\"orientation\":\"v\",\"showlegend\":true,\"x\":[25,50,75,100,125,150],\"xaxis\":\"x\",\"y\":[0,0,2,9,13,15],\"yaxis\":\"y\",\"type\":\"scatter\"}],                        {\"template\":{\"data\":{\"pie\":[{\"automargin\":true,\"type\":\"pie\"}],\"scatter3d\":[{\"line\":{\"width\":3},\"marker\":{\"size\":9},\"type\":\"scatter3d\"}],\"scattergeo\":[{\"line\":{\"width\":3},\"marker\":{\"size\":9},\"type\":\"scattergeo\"}],\"scattergl\":[{\"line\":{\"width\":3},\"marker\":{\"size\":9},\"type\":\"scattergl\"}],\"scatterpolargl\":[{\"line\":{\"width\":3},\"marker\":{\"size\":9},\"type\":\"scatterpolargl\"}],\"scatterpolar\":[{\"line\":{\"width\":3},\"marker\":{\"size\":9},\"type\":\"scatterpolar\"}],\"scatter\":[{\"line\":{\"width\":3},\"marker\":{\"size\":9},\"type\":\"scatter\"}],\"scatterternary\":[{\"line\":{\"width\":3},\"marker\":{\"size\":9},\"type\":\"scatterternary\"}],\"table\":[{\"cells\":{\"height\":30},\"header\":{\"height\":36},\"type\":\"table\"}]},\"layout\":{\"font\":{\"size\":18},\"xaxis\":{\"title\":{\"standoff\":15}},\"yaxis\":{\"title\":{\"standoff\":15}}}},\"xaxis\":{\"anchor\":\"y\",\"domain\":[0.0,1.0],\"title\":{\"text\":\"Tamanho do Grafo\"}},\"yaxis\":{\"anchor\":\"x\",\"domain\":[0.0,1.0],\"title\":{\"text\":\"Tempo de execu\\u00e7\\u00e3o (ms)\"}},\"legend\":{\"title\":{\"text\":\"Algoritmos\"},\"tracegroupgap\":0},\"title\":{\"text\":\"Tempo de Execu\\u00e7\\u00e3o x Tamanho do Grafo\"}},                        {\"responsive\": true}                    ).then(function(){\n",
       "                            \n",
       "var gd = document.getElementById('eaf7f80a-39cb-4ad7-9283-b010ca336360');\n",
       "var x = new MutationObserver(function (mutations, observer) {{\n",
       "        var display = window.getComputedStyle(gd).display;\n",
       "        if (!display || display === 'none') {{\n",
       "            console.log([gd, 'removed!']);\n",
       "            Plotly.purge(gd);\n",
       "            observer.disconnect();\n",
       "        }}\n",
       "}});\n",
       "\n",
       "// Listen for the removal of the full notebook cells\n",
       "var notebookContainer = gd.closest('#notebook-container');\n",
       "if (notebookContainer) {{\n",
       "    x.observe(notebookContainer, {childList: true});\n",
       "}}\n",
       "\n",
       "// Listen for the clearing of the current output cell\n",
       "var outputEl = gd.closest('.output');\n",
       "if (outputEl) {{\n",
       "    x.observe(outputEl, {childList: true});\n",
       "}}\n",
       "\n",
       "                        })                };                });            </script>        </div>"
      ]
     },
     "metadata": {},
     "output_type": "display_data"
    }
   ],
   "source": [
    "tamanho_grafos = [25, 50, 75, 100, 125, 150]\n",
    "tempos_execucao_exaustiva = [0, 11, 210, 2581, 14806, 86927]\n",
    "tempos_execucao_guloso = [0, 0, 2, 9, 13, 15]\n",
    "\n",
    "tempos_execucao = {\"Algoritmo Guloso\": tempos_execucao_guloso,\n",
    "                   \"Algoritmo Exaustivo\": tempos_execucao_exaustiva,\n",
    "                   \"Tamanho do Grafo\": tamanho_grafos}\n",
    "\n",
    "fig = px.line(tempos_execucao, x=\"Tamanho do Grafo\", y=[\"Algoritmo Exaustivo\", \"Algoritmo Guloso\"], labels={'x': 'Tamanho do Grafo'},\n",
    "              title='Tempo de Execução x Tamanho do Grafo', template=\"presentation\", markers=True)\n",
    "fig.update_layout(legend_title_text='Algoritmos')\n",
    "\n",
    "fig.update_yaxes(title_text = \"Tempo de execução (ms)\")\n",
    "\n",
    "fig.show()"
   ]
  },
  {
   "cell_type": "markdown",
   "metadata": {},
   "source": [
    "Como é possível observar no gráfico acima, enquanto o tempo de execução do algoritmo guloso cresce pouco, aparenta estar constante devido a escala imposta pelo algoritmo exaustivo, o algoritmo exaustivo cresce exponencialmente, algo que pode ser observado no speedup que cresce exponencialmente"
   ]
  },
  {
   "cell_type": "code",
   "execution_count": 25,
   "metadata": {},
   "outputs": [
    {
     "data": {
      "application/vnd.plotly.v1+json": {
       "config": {
        "plotlyServerURL": "https://plot.ly"
       },
       "data": [
        {
         "hovertemplate": "Tamanho do Grafo=%{x}<br>Speedup=%{y}<extra></extra>",
         "legendgroup": "",
         "line": {
          "color": "#1F77B4",
          "dash": "solid"
         },
         "marker": {
          "symbol": "circle"
         },
         "mode": "lines+markers",
         "name": "",
         "orientation": "v",
         "showlegend": false,
         "type": "scatter",
         "x": [
          25,
          50,
          75,
          100,
          125,
          150
         ],
         "xaxis": "x",
         "y": [
          null,
          null,
          105,
          286,
          1138,
          5795
         ],
         "yaxis": "y"
        }
       ],
       "layout": {
        "legend": {
         "tracegroupgap": 0
        },
        "template": {
         "data": {
          "pie": [
           {
            "automargin": true,
            "type": "pie"
           }
          ],
          "scatter": [
           {
            "line": {
             "width": 3
            },
            "marker": {
             "size": 9
            },
            "type": "scatter"
           }
          ],
          "scatter3d": [
           {
            "line": {
             "width": 3
            },
            "marker": {
             "size": 9
            },
            "type": "scatter3d"
           }
          ],
          "scattergeo": [
           {
            "line": {
             "width": 3
            },
            "marker": {
             "size": 9
            },
            "type": "scattergeo"
           }
          ],
          "scattergl": [
           {
            "line": {
             "width": 3
            },
            "marker": {
             "size": 9
            },
            "type": "scattergl"
           }
          ],
          "scatterpolar": [
           {
            "line": {
             "width": 3
            },
            "marker": {
             "size": 9
            },
            "type": "scatterpolar"
           }
          ],
          "scatterpolargl": [
           {
            "line": {
             "width": 3
            },
            "marker": {
             "size": 9
            },
            "type": "scatterpolargl"
           }
          ],
          "scatterternary": [
           {
            "line": {
             "width": 3
            },
            "marker": {
             "size": 9
            },
            "type": "scatterternary"
           }
          ],
          "table": [
           {
            "cells": {
             "height": 30
            },
            "header": {
             "height": 36
            },
            "type": "table"
           }
          ]
         },
         "layout": {
          "font": {
           "size": 18
          },
          "xaxis": {
           "title": {
            "standoff": 15
           }
          },
          "yaxis": {
           "title": {
            "standoff": 15
           }
          }
         }
        },
        "title": {
         "text": "Speedup x Tamanho do Grafo"
        },
        "xaxis": {
         "anchor": "y",
         "domain": [
          0,
          1
         ],
         "title": {
          "text": "Tamanho do Grafo"
         }
        },
        "yaxis": {
         "anchor": "x",
         "domain": [
          0,
          1
         ],
         "title": {
          "text": "Speedup"
         }
        }
       }
      },
      "text/html": [
       "<div>                            <div id=\"1740f6b3-2101-45b5-8b2f-bc70faa57f6f\" class=\"plotly-graph-div\" style=\"height:525px; width:100%;\"></div>            <script type=\"text/javascript\">                require([\"plotly\"], function(Plotly) {                    window.PLOTLYENV=window.PLOTLYENV || {};                                    if (document.getElementById(\"1740f6b3-2101-45b5-8b2f-bc70faa57f6f\")) {                    Plotly.newPlot(                        \"1740f6b3-2101-45b5-8b2f-bc70faa57f6f\",                        [{\"hovertemplate\":\"Tamanho do Grafo=%{x}\\u003cbr\\u003eSpeedup=%{y}\\u003cextra\\u003e\\u003c\\u002fextra\\u003e\",\"legendgroup\":\"\",\"line\":{\"color\":\"#1F77B4\",\"dash\":\"solid\"},\"marker\":{\"symbol\":\"circle\"},\"mode\":\"lines+markers\",\"name\":\"\",\"orientation\":\"v\",\"showlegend\":false,\"x\":[25,50,75,100,125,150],\"xaxis\":\"x\",\"y\":[null,null,105.0,286.0,1138.0,5795.0],\"yaxis\":\"y\",\"type\":\"scatter\"}],                        {\"template\":{\"data\":{\"pie\":[{\"automargin\":true,\"type\":\"pie\"}],\"scatter3d\":[{\"line\":{\"width\":3},\"marker\":{\"size\":9},\"type\":\"scatter3d\"}],\"scattergeo\":[{\"line\":{\"width\":3},\"marker\":{\"size\":9},\"type\":\"scattergeo\"}],\"scattergl\":[{\"line\":{\"width\":3},\"marker\":{\"size\":9},\"type\":\"scattergl\"}],\"scatterpolargl\":[{\"line\":{\"width\":3},\"marker\":{\"size\":9},\"type\":\"scatterpolargl\"}],\"scatterpolar\":[{\"line\":{\"width\":3},\"marker\":{\"size\":9},\"type\":\"scatterpolar\"}],\"scatter\":[{\"line\":{\"width\":3},\"marker\":{\"size\":9},\"type\":\"scatter\"}],\"scatterternary\":[{\"line\":{\"width\":3},\"marker\":{\"size\":9},\"type\":\"scatterternary\"}],\"table\":[{\"cells\":{\"height\":30},\"header\":{\"height\":36},\"type\":\"table\"}]},\"layout\":{\"font\":{\"size\":18},\"xaxis\":{\"title\":{\"standoff\":15}},\"yaxis\":{\"title\":{\"standoff\":15}}}},\"xaxis\":{\"anchor\":\"y\",\"domain\":[0.0,1.0],\"title\":{\"text\":\"Tamanho do Grafo\"}},\"yaxis\":{\"anchor\":\"x\",\"domain\":[0.0,1.0],\"title\":{\"text\":\"Speedup\"}},\"legend\":{\"tracegroupgap\":0},\"title\":{\"text\":\"Speedup x Tamanho do Grafo\"}},                        {\"responsive\": true}                    ).then(function(){\n",
       "                            \n",
       "var gd = document.getElementById('1740f6b3-2101-45b5-8b2f-bc70faa57f6f');\n",
       "var x = new MutationObserver(function (mutations, observer) {{\n",
       "        var display = window.getComputedStyle(gd).display;\n",
       "        if (!display || display === 'none') {{\n",
       "            console.log([gd, 'removed!']);\n",
       "            Plotly.purge(gd);\n",
       "            observer.disconnect();\n",
       "        }}\n",
       "}});\n",
       "\n",
       "// Listen for the removal of the full notebook cells\n",
       "var notebookContainer = gd.closest('#notebook-container');\n",
       "if (notebookContainer) {{\n",
       "    x.observe(notebookContainer, {childList: true});\n",
       "}}\n",
       "\n",
       "// Listen for the clearing of the current output cell\n",
       "var outputEl = gd.closest('.output');\n",
       "if (outputEl) {{\n",
       "    x.observe(outputEl, {childList: true});\n",
       "}}\n",
       "\n",
       "                        })                };                });            </script>        </div>"
      ]
     },
     "metadata": {},
     "output_type": "display_data"
    }
   ],
   "source": [
    "tamanho_grafos = [25, 50, 75, 100, 125, 150]\n",
    "speedup = [None, None, 105, 286, 1138, 5795]\n",
    "\n",
    "tempos_execucao = {\"Speedup\": speedup,\n",
    "                   \"Tamanho do Grafo\": tamanho_grafos}\n",
    "\n",
    "fig = px.line(tempos_execucao, x=\"Tamanho do Grafo\", y=\"Speedup\", labels={'x': 'Tamanho do Grafo'},\n",
    "              title='Speedup x Tamanho do Grafo', template=\"presentation\", markers=True)\n",
    "fig.update_yaxes(title_text = \"Speedup\")\n",
    "\n",
    "fig.show()"
   ]
  },
  {
   "cell_type": "code",
   "execution_count": 1,
   "metadata": {},
   "outputs": [
    {
     "name": "stdout",
     "output_type": "stream",
     "text": [
      "Defaulting to user installation because normal site-packages is not writeable\n",
      "Requirement already satisfied: networkx in /home/giancarlo/.local/lib/python3.10/site-packages (3.2.1)\n",
      "Note: you may need to restart the kernel to use updated packages.\n"
     ]
    }
   ],
   "source": [
    "%pip install networkx "
   ]
  },
  {
   "cell_type": "code",
   "execution_count": null,
   "metadata": {},
   "outputs": [],
   "source": []
  }
 ],
 "metadata": {
  "kernelspec": {
   "display_name": "Python 3",
   "language": "python",
   "name": "python3"
  },
  "language_info": {
   "codemirror_mode": {
    "name": "ipython",
    "version": 3
   },
   "file_extension": ".py",
   "mimetype": "text/x-python",
   "name": "python",
   "nbconvert_exporter": "python",
   "pygments_lexer": "ipython3",
   "version": "3.10.12"
  }
 },
 "nbformat": 4,
 "nbformat_minor": 2
}
